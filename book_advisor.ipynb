{
 "cells": [
  {
   "cell_type": "code",
   "execution_count": 1,
   "id": "ce85c356-6fb5-43a4-b0f8-949c63b56c57",
   "metadata": {},
   "outputs": [],
   "source": [
    "import pandas as pd\n",
    "import numpy as np"
   ]
  },
  {
   "cell_type": "code",
   "execution_count": 2,
   "id": "c4951791-2d7d-419a-a973-fb6d99cab0b2",
   "metadata": {},
   "outputs": [
    {
     "name": "stderr",
     "output_type": "stream",
     "text": [
      "C:\\Users\\Jay Liya\\AppData\\Local\\Temp\\ipykernel_8844\\1748781244.py:1: DtypeWarning: Columns (3) have mixed types. Specify dtype option on import or set low_memory=False.\n",
      "  books = pd.read_csv('Books.csv')\n"
     ]
    }
   ],
   "source": [
    "books = pd.read_csv('Books.csv')\n",
    "users = pd.read_csv('Users.csv')\n",
    "ratings = pd.read_csv('Ratings.csv')"
   ]
  },
  {
   "cell_type": "code",
   "execution_count": 3,
   "id": "a0cc9b4b-5969-47e6-ab2b-0bb10fce5383",
   "metadata": {},
   "outputs": [
    {
     "data": {
      "text/html": [
       "<div>\n",
       "<style scoped>\n",
       "    .dataframe tbody tr th:only-of-type {\n",
       "        vertical-align: middle;\n",
       "    }\n",
       "\n",
       "    .dataframe tbody tr th {\n",
       "        vertical-align: top;\n",
       "    }\n",
       "\n",
       "    .dataframe thead th {\n",
       "        text-align: right;\n",
       "    }\n",
       "</style>\n",
       "<table border=\"1\" class=\"dataframe\">\n",
       "  <thead>\n",
       "    <tr style=\"text-align: right;\">\n",
       "      <th></th>\n",
       "      <th>ISBN</th>\n",
       "      <th>Book-Title</th>\n",
       "      <th>Book-Author</th>\n",
       "      <th>Year-Of-Publication</th>\n",
       "      <th>Publisher</th>\n",
       "      <th>Image-URL-S</th>\n",
       "      <th>Image-URL-M</th>\n",
       "      <th>Image-URL-L</th>\n",
       "    </tr>\n",
       "  </thead>\n",
       "  <tbody>\n",
       "    <tr>\n",
       "      <th>0</th>\n",
       "      <td>0195153448</td>\n",
       "      <td>Classical Mythology</td>\n",
       "      <td>Mark P. O. Morford</td>\n",
       "      <td>2002</td>\n",
       "      <td>Oxford University Press</td>\n",
       "      <td>http://images.amazon.com/images/P/0195153448.0...</td>\n",
       "      <td>http://images.amazon.com/images/P/0195153448.0...</td>\n",
       "      <td>http://images.amazon.com/images/P/0195153448.0...</td>\n",
       "    </tr>\n",
       "    <tr>\n",
       "      <th>1</th>\n",
       "      <td>0002005018</td>\n",
       "      <td>Clara Callan</td>\n",
       "      <td>Richard Bruce Wright</td>\n",
       "      <td>2001</td>\n",
       "      <td>HarperFlamingo Canada</td>\n",
       "      <td>http://images.amazon.com/images/P/0002005018.0...</td>\n",
       "      <td>http://images.amazon.com/images/P/0002005018.0...</td>\n",
       "      <td>http://images.amazon.com/images/P/0002005018.0...</td>\n",
       "    </tr>\n",
       "  </tbody>\n",
       "</table>\n",
       "</div>"
      ],
      "text/plain": [
       "         ISBN           Book-Title           Book-Author Year-Of-Publication  \\\n",
       "0  0195153448  Classical Mythology    Mark P. O. Morford                2002   \n",
       "1  0002005018         Clara Callan  Richard Bruce Wright                2001   \n",
       "\n",
       "                 Publisher                                        Image-URL-S  \\\n",
       "0  Oxford University Press  http://images.amazon.com/images/P/0195153448.0...   \n",
       "1    HarperFlamingo Canada  http://images.amazon.com/images/P/0002005018.0...   \n",
       "\n",
       "                                         Image-URL-M  \\\n",
       "0  http://images.amazon.com/images/P/0195153448.0...   \n",
       "1  http://images.amazon.com/images/P/0002005018.0...   \n",
       "\n",
       "                                         Image-URL-L  \n",
       "0  http://images.amazon.com/images/P/0195153448.0...  \n",
       "1  http://images.amazon.com/images/P/0002005018.0...  "
      ]
     },
     "execution_count": 3,
     "metadata": {},
     "output_type": "execute_result"
    }
   ],
   "source": [
    "books.head(2)"
   ]
  },
  {
   "cell_type": "code",
   "execution_count": 4,
   "id": "e68a3251-aa11-4d84-a5cd-5a433662c618",
   "metadata": {},
   "outputs": [
    {
     "data": {
      "text/plain": [
       "(271360, 8)"
      ]
     },
     "execution_count": 4,
     "metadata": {},
     "output_type": "execute_result"
    }
   ],
   "source": [
    "books.shape"
   ]
  },
  {
   "cell_type": "code",
   "execution_count": 5,
   "id": "037c0621-2a36-4b30-aa25-9da13fa911db",
   "metadata": {},
   "outputs": [
    {
     "name": "stdout",
     "output_type": "stream",
     "text": [
      "<class 'pandas.core.frame.DataFrame'>\n",
      "RangeIndex: 271360 entries, 0 to 271359\n",
      "Data columns (total 8 columns):\n",
      " #   Column               Non-Null Count   Dtype \n",
      "---  ------               --------------   ----- \n",
      " 0   ISBN                 271360 non-null  object\n",
      " 1   Book-Title           271360 non-null  object\n",
      " 2   Book-Author          271358 non-null  object\n",
      " 3   Year-Of-Publication  271360 non-null  object\n",
      " 4   Publisher            271358 non-null  object\n",
      " 5   Image-URL-S          271360 non-null  object\n",
      " 6   Image-URL-M          271360 non-null  object\n",
      " 7   Image-URL-L          271357 non-null  object\n",
      "dtypes: object(8)\n",
      "memory usage: 16.6+ MB\n"
     ]
    }
   ],
   "source": [
    "books.info()"
   ]
  },
  {
   "cell_type": "code",
   "execution_count": 6,
   "id": "b1160253-15d9-4492-8e07-4041671e7fba",
   "metadata": {},
   "outputs": [
    {
     "data": {
      "text/html": [
       "<div>\n",
       "<style scoped>\n",
       "    .dataframe tbody tr th:only-of-type {\n",
       "        vertical-align: middle;\n",
       "    }\n",
       "\n",
       "    .dataframe tbody tr th {\n",
       "        vertical-align: top;\n",
       "    }\n",
       "\n",
       "    .dataframe thead th {\n",
       "        text-align: right;\n",
       "    }\n",
       "</style>\n",
       "<table border=\"1\" class=\"dataframe\">\n",
       "  <thead>\n",
       "    <tr style=\"text-align: right;\">\n",
       "      <th></th>\n",
       "      <th>User-ID</th>\n",
       "      <th>Location</th>\n",
       "      <th>Age</th>\n",
       "    </tr>\n",
       "  </thead>\n",
       "  <tbody>\n",
       "    <tr>\n",
       "      <th>0</th>\n",
       "      <td>1</td>\n",
       "      <td>nyc, new york, usa</td>\n",
       "      <td>NaN</td>\n",
       "    </tr>\n",
       "    <tr>\n",
       "      <th>1</th>\n",
       "      <td>2</td>\n",
       "      <td>stockton, california, usa</td>\n",
       "      <td>18.0</td>\n",
       "    </tr>\n",
       "    <tr>\n",
       "      <th>2</th>\n",
       "      <td>3</td>\n",
       "      <td>moscow, yukon territory, russia</td>\n",
       "      <td>NaN</td>\n",
       "    </tr>\n",
       "  </tbody>\n",
       "</table>\n",
       "</div>"
      ],
      "text/plain": [
       "   User-ID                         Location   Age\n",
       "0        1               nyc, new york, usa   NaN\n",
       "1        2        stockton, california, usa  18.0\n",
       "2        3  moscow, yukon territory, russia   NaN"
      ]
     },
     "execution_count": 6,
     "metadata": {},
     "output_type": "execute_result"
    }
   ],
   "source": [
    "users.head(3)"
   ]
  },
  {
   "cell_type": "code",
   "execution_count": 7,
   "id": "8c72f5fa-bdaf-4b86-831c-5c3c0cb014d5",
   "metadata": {},
   "outputs": [
    {
     "data": {
      "text/plain": [
       "(278858, 3)"
      ]
     },
     "execution_count": 7,
     "metadata": {},
     "output_type": "execute_result"
    }
   ],
   "source": [
    "users.shape"
   ]
  },
  {
   "cell_type": "code",
   "execution_count": 8,
   "id": "1a00bef0-f1fd-4997-80f0-373d0e56708b",
   "metadata": {},
   "outputs": [
    {
     "name": "stdout",
     "output_type": "stream",
     "text": [
      "<class 'pandas.core.frame.DataFrame'>\n",
      "RangeIndex: 278858 entries, 0 to 278857\n",
      "Data columns (total 3 columns):\n",
      " #   Column    Non-Null Count   Dtype  \n",
      "---  ------    --------------   -----  \n",
      " 0   User-ID   278858 non-null  int64  \n",
      " 1   Location  278858 non-null  object \n",
      " 2   Age       168096 non-null  float64\n",
      "dtypes: float64(1), int64(1), object(1)\n",
      "memory usage: 6.4+ MB\n"
     ]
    }
   ],
   "source": [
    "users.info()"
   ]
  },
  {
   "cell_type": "code",
   "execution_count": 9,
   "id": "c46a2af0-f7ab-422e-912d-97d8b3672490",
   "metadata": {},
   "outputs": [
    {
     "data": {
      "text/html": [
       "<div>\n",
       "<style scoped>\n",
       "    .dataframe tbody tr th:only-of-type {\n",
       "        vertical-align: middle;\n",
       "    }\n",
       "\n",
       "    .dataframe tbody tr th {\n",
       "        vertical-align: top;\n",
       "    }\n",
       "\n",
       "    .dataframe thead th {\n",
       "        text-align: right;\n",
       "    }\n",
       "</style>\n",
       "<table border=\"1\" class=\"dataframe\">\n",
       "  <thead>\n",
       "    <tr style=\"text-align: right;\">\n",
       "      <th></th>\n",
       "      <th>User-ID</th>\n",
       "      <th>ISBN</th>\n",
       "      <th>Book-Rating</th>\n",
       "    </tr>\n",
       "  </thead>\n",
       "  <tbody>\n",
       "    <tr>\n",
       "      <th>0</th>\n",
       "      <td>276725</td>\n",
       "      <td>034545104X</td>\n",
       "      <td>0</td>\n",
       "    </tr>\n",
       "    <tr>\n",
       "      <th>1</th>\n",
       "      <td>276726</td>\n",
       "      <td>0155061224</td>\n",
       "      <td>5</td>\n",
       "    </tr>\n",
       "    <tr>\n",
       "      <th>2</th>\n",
       "      <td>276727</td>\n",
       "      <td>0446520802</td>\n",
       "      <td>0</td>\n",
       "    </tr>\n",
       "  </tbody>\n",
       "</table>\n",
       "</div>"
      ],
      "text/plain": [
       "   User-ID        ISBN  Book-Rating\n",
       "0   276725  034545104X            0\n",
       "1   276726  0155061224            5\n",
       "2   276727  0446520802            0"
      ]
     },
     "execution_count": 9,
     "metadata": {},
     "output_type": "execute_result"
    }
   ],
   "source": [
    "ratings.head(3)"
   ]
  },
  {
   "cell_type": "code",
   "execution_count": 10,
   "id": "326c1406-4c96-411f-bcb7-efc272cc037c",
   "metadata": {},
   "outputs": [
    {
     "data": {
      "text/plain": [
       "(1149780, 3)"
      ]
     },
     "execution_count": 10,
     "metadata": {},
     "output_type": "execute_result"
    }
   ],
   "source": [
    "ratings.shape"
   ]
  },
  {
   "cell_type": "code",
   "execution_count": 11,
   "id": "9575ba9f-3e0b-4b86-b9f2-090c27cdbd69",
   "metadata": {},
   "outputs": [
    {
     "name": "stdout",
     "output_type": "stream",
     "text": [
      "<class 'pandas.core.frame.DataFrame'>\n",
      "RangeIndex: 1149780 entries, 0 to 1149779\n",
      "Data columns (total 3 columns):\n",
      " #   Column       Non-Null Count    Dtype \n",
      "---  ------       --------------    ----- \n",
      " 0   User-ID      1149780 non-null  int64 \n",
      " 1   ISBN         1149780 non-null  object\n",
      " 2   Book-Rating  1149780 non-null  int64 \n",
      "dtypes: int64(2), object(1)\n",
      "memory usage: 26.3+ MB\n"
     ]
    }
   ],
   "source": [
    "ratings.info()"
   ]
  },
  {
   "cell_type": "code",
   "execution_count": 12,
   "id": "b5f7cf47-24d4-48db-a045-1c641a7f0900",
   "metadata": {},
   "outputs": [
    {
     "name": "stdout",
     "output_type": "stream",
     "text": [
      "(271360, 8)\n",
      "(1149780, 3)\n",
      "(278858, 3)\n"
     ]
    }
   ],
   "source": [
    "print(books.shape)\n",
    "print(ratings.shape)\n",
    "print(users.shape)"
   ]
  },
  {
   "cell_type": "code",
   "execution_count": 13,
   "id": "33483211-bfa1-4628-9bfc-9d632166f2fd",
   "metadata": {},
   "outputs": [
    {
     "data": {
      "text/plain": [
       "ISBN                   0\n",
       "Book-Title             0\n",
       "Book-Author            2\n",
       "Year-Of-Publication    0\n",
       "Publisher              2\n",
       "Image-URL-S            0\n",
       "Image-URL-M            0\n",
       "Image-URL-L            3\n",
       "dtype: int64"
      ]
     },
     "execution_count": 13,
     "metadata": {},
     "output_type": "execute_result"
    }
   ],
   "source": [
    "books.isnull().sum()"
   ]
  },
  {
   "cell_type": "code",
   "execution_count": 14,
   "id": "d7c2ea72-cf78-49f1-8f35-eb954c05a930",
   "metadata": {},
   "outputs": [
    {
     "data": {
      "text/plain": [
       "User-ID          0\n",
       "Location         0\n",
       "Age         110762\n",
       "dtype: int64"
      ]
     },
     "execution_count": 14,
     "metadata": {},
     "output_type": "execute_result"
    }
   ],
   "source": [
    "users.isnull().sum()"
   ]
  },
  {
   "cell_type": "code",
   "execution_count": 15,
   "id": "d700edd2-76a3-46da-8d91-fd42e3a8fc33",
   "metadata": {},
   "outputs": [
    {
     "data": {
      "text/plain": [
       "User-ID        0\n",
       "ISBN           0\n",
       "Book-Rating    0\n",
       "dtype: int64"
      ]
     },
     "execution_count": 15,
     "metadata": {},
     "output_type": "execute_result"
    }
   ],
   "source": [
    "ratings.isnull().sum()"
   ]
  },
  {
   "cell_type": "code",
   "execution_count": 16,
   "id": "b930e34a-e6f4-48e4-829c-2b4ff424fca6",
   "metadata": {},
   "outputs": [
    {
     "data": {
      "text/plain": [
       "0"
      ]
     },
     "execution_count": 16,
     "metadata": {},
     "output_type": "execute_result"
    }
   ],
   "source": [
    "books.duplicated().sum()"
   ]
  },
  {
   "cell_type": "code",
   "execution_count": 17,
   "id": "6708356b-d80e-4a6e-8737-7eecb4e111d0",
   "metadata": {},
   "outputs": [
    {
     "data": {
      "text/plain": [
       "0"
      ]
     },
     "execution_count": 17,
     "metadata": {},
     "output_type": "execute_result"
    }
   ],
   "source": [
    "ratings.duplicated().sum()"
   ]
  },
  {
   "cell_type": "code",
   "execution_count": 18,
   "id": "51858171-9ab2-4478-8a55-81171d91dc5b",
   "metadata": {},
   "outputs": [
    {
     "data": {
      "text/plain": [
       "0"
      ]
     },
     "execution_count": 18,
     "metadata": {},
     "output_type": "execute_result"
    }
   ],
   "source": [
    "users.duplicated().sum()"
   ]
  },
  {
   "cell_type": "code",
   "execution_count": 19,
   "id": "460418d5-7dab-4333-98ba-008c7b60fd02",
   "metadata": {},
   "outputs": [],
   "source": [
    "import seaborn as sns\n",
    "import matplotlib.pyplot as plt"
   ]
  },
  {
   "cell_type": "code",
   "execution_count": 20,
   "id": "7caadfc9-0892-4060-bf36-f6c6250dbaca",
   "metadata": {},
   "outputs": [
    {
     "data": {
      "image/png": "[encoded data removed]",
      "text/plain": [
       "<Figure size 640x480 with 1 Axes>"
      ]
     },
     "metadata": {},
     "output_type": "display_data"
    }
   ],
   "source": [
    "sns.histplot(ratings['Book-Rating'], bins=5, kde=False)\n",
    "plt.title('Distribution of Book Ratings')\n",
    "plt.xlabel('Rating')\n",
    "plt.ylabel('Frequency')\n",
    "plt.show()"
   ]
  },
  {
   "cell_type": "code",
   "execution_count": 21,
   "id": "742f4863-8497-4b95-9bd5-4a02d977bc4d",
   "metadata": {},
   "outputs": [
    {
     "data": {
      "image/png": "[encoded data removed]",
      "text/plain": [
       "<Figure size 640x480 with 1 Axes>"
      ]
     },
     "metadata": {},
     "output_type": "display_data"
    }
   ],
   "source": [
    "top_rated_books = ratings.groupby('ISBN').size().sort_values(ascending=False).head(10)\n",
    "sns.barplot(x=top_rated_books.index, y=top_rated_books.values)\n",
    "plt.title('Top 10 Most Rated Books (by ISBN)')\n",
    "plt.xlabel('ISBN')\n",
    "plt.ylabel('Number of Ratings')\n",
    "plt.xticks(rotation=45)\n",
    "plt.show()"
   ]
  },
  {
   "cell_type": "code",
   "execution_count": 22,
   "id": "c83fd48a-7e2b-4288-be64-062c0a072986",
   "metadata": {},
   "outputs": [
    {
     "data": {
      "image/png": "[encoded data removed]",
      "text/plain": [
       "<Figure size 640x480 with 1 Axes>"
      ]
     },
     "metadata": {},
     "output_type": "display_data"
    }
   ],
   "source": [
    "avg_rating_by_book = ratings.groupby('ISBN')['Book-Rating'].mean().sort_values(ascending=False).head(10)\n",
    "sns.barplot(x=avg_rating_by_book.index, y=avg_rating_by_book.values)\n",
    "plt.title('Top 10 Books with Highest Average Rating')\n",
    "plt.xlabel('ISBN')\n",
    "plt.ylabel('Average Rating')\n",
    "plt.xticks(rotation=45)\n",
    "plt.show()"
   ]
  },
  {
   "cell_type": "code",
   "execution_count": 23,
   "id": "59b407be-99b1-41a9-97cb-26d359dd1082",
   "metadata": {},
   "outputs": [
    {
     "data": {
      "image/png": "[encoded data removed]",
      "text/plain": [
       "<Figure size 640x480 with 1 Axes>"
      ]
     },
     "metadata": {},
     "output_type": "display_data"
    }
   ],
   "source": [
    "five_star_ratings = ratings[ratings['Book-Rating'] == 5].groupby('ISBN').size().sort_values(ascending=False).head(10)\n",
    "sns.barplot(x=five_star_ratings.index, y=five_star_ratings.values)\n",
    "plt.title('Top 10 Books with Most 5-Star Ratings')\n",
    "plt.xlabel('ISBN')\n",
    "plt.ylabel('Number of 5-Star Ratings')\n",
    "plt.xticks(rotation=45)\n",
    "plt.show()"
   ]
  },
  {
   "cell_type": "code",
   "execution_count": 24,
   "id": "fe655b5b-cd8b-4835-9efd-6fa7048b7bf4",
   "metadata": {},
   "outputs": [
    {
     "data": {
      "image/png": "[encoded data removed]",
      "text/plain": [
       "<Figure size 640x480 with 1 Axes>"
      ]
     },
     "metadata": {},
     "output_type": "display_data"
    }
   ],
   "source": [
    "sns.histplot(users['Age'], bins=10, kde=True)\n",
    "plt.title('Age Distribution of Users')\n",
    "plt.xlabel('Age')\n",
    "plt.ylabel('Number of Users')\n",
    "plt.show()"
   ]
  },
  {
   "cell_type": "markdown",
   "id": "563f28b4-ca47-4e6b-bc7e-016c7e68fb2c",
   "metadata": {},
   "source": [
    "# Popularity Based Recommender System"
   ]
  },
  {
   "cell_type": "code",
   "execution_count": 25,
   "id": "f670ced0-455b-40e9-a771-ca63ea4c2c2d",
   "metadata": {},
   "outputs": [
    {
     "data": {
      "text/html": [
       "<div>\n",
       "<style scoped>\n",
       "    .dataframe tbody tr th:only-of-type {\n",
       "        vertical-align: middle;\n",
       "    }\n",
       "\n",
       "    .dataframe tbody tr th {\n",
       "        vertical-align: top;\n",
       "    }\n",
       "\n",
       "    .dataframe thead th {\n",
       "        text-align: right;\n",
       "    }\n",
       "</style>\n",
       "<table border=\"1\" class=\"dataframe\">\n",
       "  <thead>\n",
       "    <tr style=\"text-align: right;\">\n",
       "      <th></th>\n",
       "      <th>User-ID</th>\n",
       "      <th>ISBN</th>\n",
       "      <th>Book-Rating</th>\n",
       "    </tr>\n",
       "  </thead>\n",
       "  <tbody>\n",
       "    <tr>\n",
       "      <th>0</th>\n",
       "      <td>276725</td>\n",
       "      <td>034545104X</td>\n",
       "      <td>0</td>\n",
       "    </tr>\n",
       "    <tr>\n",
       "      <th>1</th>\n",
       "      <td>276726</td>\n",
       "      <td>0155061224</td>\n",
       "      <td>5</td>\n",
       "    </tr>\n",
       "  </tbody>\n",
       "</table>\n",
       "</div>"
      ],
      "text/plain": [
       "   User-ID        ISBN  Book-Rating\n",
       "0   276725  034545104X            0\n",
       "1   276726  0155061224            5"
      ]
     },
     "execution_count": 25,
     "metadata": {},
     "output_type": "execute_result"
    }
   ],
   "source": [
    "ratings.head(2)"
   ]
  },
  {
   "cell_type": "code",
   "execution_count": 26,
   "id": "004ce1ba-2234-48e0-9bf0-550f23378425",
   "metadata": {},
   "outputs": [
    {
     "data": {
      "text/html": [
       "<div>\n",
       "<style scoped>\n",
       "    .dataframe tbody tr th:only-of-type {\n",
       "        vertical-align: middle;\n",
       "    }\n",
       "\n",
       "    .dataframe tbody tr th {\n",
       "        vertical-align: top;\n",
       "    }\n",
       "\n",
       "    .dataframe thead th {\n",
       "        text-align: right;\n",
       "    }\n",
       "</style>\n",
       "<table border=\"1\" class=\"dataframe\">\n",
       "  <thead>\n",
       "    <tr style=\"text-align: right;\">\n",
       "      <th></th>\n",
       "      <th>ISBN</th>\n",
       "      <th>Book-Title</th>\n",
       "      <th>Book-Author</th>\n",
       "      <th>Year-Of-Publication</th>\n",
       "      <th>Publisher</th>\n",
       "      <th>Image-URL-S</th>\n",
       "      <th>Image-URL-M</th>\n",
       "      <th>Image-URL-L</th>\n",
       "    </tr>\n",
       "  </thead>\n",
       "  <tbody>\n",
       "    <tr>\n",
       "      <th>0</th>\n",
       "      <td>0195153448</td>\n",
       "      <td>Classical Mythology</td>\n",
       "      <td>Mark P. O. Morford</td>\n",
       "      <td>2002</td>\n",
       "      <td>Oxford University Press</td>\n",
       "      <td>http://images.amazon.com/images/P/0195153448.0...</td>\n",
       "      <td>http://images.amazon.com/images/P/0195153448.0...</td>\n",
       "      <td>http://images.amazon.com/images/P/0195153448.0...</td>\n",
       "    </tr>\n",
       "    <tr>\n",
       "      <th>1</th>\n",
       "      <td>0002005018</td>\n",
       "      <td>Clara Callan</td>\n",
       "      <td>Richard Bruce Wright</td>\n",
       "      <td>2001</td>\n",
       "      <td>HarperFlamingo Canada</td>\n",
       "      <td>http://images.amazon.com/images/P/0002005018.0...</td>\n",
       "      <td>http://images.amazon.com/images/P/0002005018.0...</td>\n",
       "      <td>http://images.amazon.com/images/P/0002005018.0...</td>\n",
       "    </tr>\n",
       "  </tbody>\n",
       "</table>\n",
       "</div>"
      ],
      "text/plain": [
       "         ISBN           Book-Title           Book-Author Year-Of-Publication  \\\n",
       "0  0195153448  Classical Mythology    Mark P. O. Morford                2002   \n",
       "1  0002005018         Clara Callan  Richard Bruce Wright                2001   \n",
       "\n",
       "                 Publisher                                        Image-URL-S  \\\n",
       "0  Oxford University Press  http://images.amazon.com/images/P/0195153448.0...   \n",
       "1    HarperFlamingo Canada  http://images.amazon.com/images/P/0002005018.0...   \n",
       "\n",
       "                                         Image-URL-M  \\\n",
       "0  http://images.amazon.com/images/P/0195153448.0...   \n",
       "1  http://images.amazon.com/images/P/0002005018.0...   \n",
       "\n",
       "                                         Image-URL-L  \n",
       "0  http://images.amazon.com/images/P/0195153448.0...  \n",
       "1  http://images.amazon.com/images/P/0002005018.0...  "
      ]
     },
     "execution_count": 26,
     "metadata": {},
     "output_type": "execute_result"
    }
   ],
   "source": [
    "books.head(2)"
   ]
  },
  {
   "cell_type": "code",
   "execution_count": 27,
   "id": "d8077e47-5d40-440b-83d9-5992f1228118",
   "metadata": {},
   "outputs": [],
   "source": [
    "ratings_with_name=ratings.merge(books,on='ISBN')"
   ]
  },
  {
   "cell_type": "code",
   "execution_count": 28,
   "id": "12793bce-6ed9-4f3e-ad1d-9c19ad6f666f",
   "metadata": {},
   "outputs": [
    {
     "data": {
      "text/html": [
       "<div>\n",
       "<style scoped>\n",
       "    .dataframe tbody tr th:only-of-type {\n",
       "        vertical-align: middle;\n",
       "    }\n",
       "\n",
       "    .dataframe tbody tr th {\n",
       "        vertical-align: top;\n",
       "    }\n",
       "\n",
       "    .dataframe thead th {\n",
       "        text-align: right;\n",
       "    }\n",
       "</style>\n",
       "<table border=\"1\" class=\"dataframe\">\n",
       "  <thead>\n",
       "    <tr style=\"text-align: right;\">\n",
       "      <th></th>\n",
       "      <th>User-ID</th>\n",
       "      <th>ISBN</th>\n",
       "      <th>Book-Rating</th>\n",
       "      <th>Book-Title</th>\n",
       "      <th>Book-Author</th>\n",
       "      <th>Year-Of-Publication</th>\n",
       "      <th>Publisher</th>\n",
       "      <th>Image-URL-S</th>\n",
       "      <th>Image-URL-M</th>\n",
       "      <th>Image-URL-L</th>\n",
       "    </tr>\n",
       "  </thead>\n",
       "  <tbody>\n",
       "    <tr>\n",
       "      <th>258643</th>\n",
       "      <td>69078</td>\n",
       "      <td>0553210939</td>\n",
       "      <td>10</td>\n",
       "      <td>Crime and Punishment</td>\n",
       "      <td>Fyodor M. Dostoevsky</td>\n",
       "      <td>1982</td>\n",
       "      <td>Bantam</td>\n",
       "      <td>http://images.amazon.com/images/P/0553210939.0...</td>\n",
       "      <td>http://images.amazon.com/images/P/0553210939.0...</td>\n",
       "      <td>http://images.amazon.com/images/P/0553210939.0...</td>\n",
       "    </tr>\n",
       "  </tbody>\n",
       "</table>\n",
       "</div>"
      ],
      "text/plain": [
       "        User-ID        ISBN  Book-Rating            Book-Title  \\\n",
       "258643    69078  0553210939           10  Crime and Punishment   \n",
       "\n",
       "                 Book-Author Year-Of-Publication Publisher  \\\n",
       "258643  Fyodor M. Dostoevsky                1982    Bantam   \n",
       "\n",
       "                                              Image-URL-S  \\\n",
       "258643  http://images.amazon.com/images/P/0553210939.0...   \n",
       "\n",
       "                                              Image-URL-M  \\\n",
       "258643  http://images.amazon.com/images/P/0553210939.0...   \n",
       "\n",
       "                                              Image-URL-L  \n",
       "258643  http://images.amazon.com/images/P/0553210939.0...  "
      ]
     },
     "execution_count": 28,
     "metadata": {},
     "output_type": "execute_result"
    }
   ],
   "source": [
    "ratings_with_name.sample()"
   ]
  },
  {
   "cell_type": "code",
   "execution_count": 29,
   "id": "b59eeaaf-73e8-4fe5-9ab1-b3abc192206c",
   "metadata": {},
   "outputs": [
    {
     "name": "stdout",
     "output_type": "stream",
     "text": [
      "<class 'pandas.core.frame.DataFrame'>\n",
      "RangeIndex: 1031136 entries, 0 to 1031135\n",
      "Data columns (total 10 columns):\n",
      " #   Column               Non-Null Count    Dtype \n",
      "---  ------               --------------    ----- \n",
      " 0   User-ID              1031136 non-null  int64 \n",
      " 1   ISBN                 1031136 non-null  object\n",
      " 2   Book-Rating          1031136 non-null  int64 \n",
      " 3   Book-Title           1031136 non-null  object\n",
      " 4   Book-Author          1031134 non-null  object\n",
      " 5   Year-Of-Publication  1031136 non-null  object\n",
      " 6   Publisher            1031134 non-null  object\n",
      " 7   Image-URL-S          1031136 non-null  object\n",
      " 8   Image-URL-M          1031136 non-null  object\n",
      " 9   Image-URL-L          1031132 non-null  object\n",
      "dtypes: int64(2), object(8)\n",
      "memory usage: 78.7+ MB\n"
     ]
    }
   ],
   "source": [
    "ratings_with_name.info()"
   ]
  },
  {
   "cell_type": "code",
   "execution_count": 30,
   "id": "29cdc598-02c0-4986-bfb0-1540728800ff",
   "metadata": {},
   "outputs": [
    {
     "data": {
      "text/plain": [
       "(1031136, 10)"
      ]
     },
     "execution_count": 30,
     "metadata": {},
     "output_type": "execute_result"
    }
   ],
   "source": [
    "ratings_with_name.shape"
   ]
  },
  {
   "cell_type": "code",
   "execution_count": 31,
   "id": "994aadcf-c095-4b5f-82cf-71e3972a23f1",
   "metadata": {},
   "outputs": [],
   "source": [
    "num_rating_df=ratings_with_name.groupby('Book-Title')['Book-Rating'].count().reset_index()"
   ]
  },
  {
   "cell_type": "code",
   "execution_count": 32,
   "id": "24cc2680-3203-4eeb-9061-4176ac0c434e",
   "metadata": {},
   "outputs": [],
   "source": [
    "num_rating_df.rename(columns={\"Book-Rating\":\"Num-Rating\"},inplace=True)"
   ]
  },
  {
   "cell_type": "code",
   "execution_count": 33,
   "id": "5cc29234-628b-43be-a136-58defd920ddf",
   "metadata": {},
   "outputs": [
    {
     "data": {
      "text/html": [
       "<div>\n",
       "<style scoped>\n",
       "    .dataframe tbody tr th:only-of-type {\n",
       "        vertical-align: middle;\n",
       "    }\n",
       "\n",
       "    .dataframe tbody tr th {\n",
       "        vertical-align: top;\n",
       "    }\n",
       "\n",
       "    .dataframe thead th {\n",
       "        text-align: right;\n",
       "    }\n",
       "</style>\n",
       "<table border=\"1\" class=\"dataframe\">\n",
       "  <thead>\n",
       "    <tr style=\"text-align: right;\">\n",
       "      <th></th>\n",
       "      <th>Book-Title</th>\n",
       "      <th>Num-Rating</th>\n",
       "    </tr>\n",
       "  </thead>\n",
       "  <tbody>\n",
       "    <tr>\n",
       "      <th>0</th>\n",
       "      <td>A Light in the Storm: The Civil War Diary of ...</td>\n",
       "      <td>4</td>\n",
       "    </tr>\n",
       "    <tr>\n",
       "      <th>1</th>\n",
       "      <td>Always Have Popsicles</td>\n",
       "      <td>1</td>\n",
       "    </tr>\n",
       "  </tbody>\n",
       "</table>\n",
       "</div>"
      ],
      "text/plain": [
       "                                          Book-Title  Num-Rating\n",
       "0   A Light in the Storm: The Civil War Diary of ...           4\n",
       "1                              Always Have Popsicles           1"
      ]
     },
     "execution_count": 33,
     "metadata": {},
     "output_type": "execute_result"
    }
   ],
   "source": [
    "num_rating_df.head(2)"
   ]
  },
  {
   "cell_type": "code",
   "execution_count": 34,
   "id": "2ac64cb3-9be9-4ffe-8728-2190ef05bd84",
   "metadata": {},
   "outputs": [],
   "source": [
    "avg_rating_df=ratings_with_name.groupby('Book-Title')['Book-Rating'].mean().reset_index()"
   ]
  },
  {
   "cell_type": "code",
   "execution_count": 35,
   "id": "406531f4-e308-492e-bff3-bfd56046e499",
   "metadata": {},
   "outputs": [],
   "source": [
    "avg_rating_df.rename(columns={\"Book-Rating\":\"Avg-Rating\"},inplace=True)"
   ]
  },
  {
   "cell_type": "code",
   "execution_count": 36,
   "id": "7a9b5e6f-8762-4c74-8cf5-c6e286fabb8f",
   "metadata": {},
   "outputs": [
    {
     "data": {
      "text/html": [
       "<div>\n",
       "<style scoped>\n",
       "    .dataframe tbody tr th:only-of-type {\n",
       "        vertical-align: middle;\n",
       "    }\n",
       "\n",
       "    .dataframe tbody tr th {\n",
       "        vertical-align: top;\n",
       "    }\n",
       "\n",
       "    .dataframe thead th {\n",
       "        text-align: right;\n",
       "    }\n",
       "</style>\n",
       "<table border=\"1\" class=\"dataframe\">\n",
       "  <thead>\n",
       "    <tr style=\"text-align: right;\">\n",
       "      <th></th>\n",
       "      <th>Book-Title</th>\n",
       "      <th>Avg-Rating</th>\n",
       "    </tr>\n",
       "  </thead>\n",
       "  <tbody>\n",
       "    <tr>\n",
       "      <th>0</th>\n",
       "      <td>A Light in the Storm: The Civil War Diary of ...</td>\n",
       "      <td>2.25</td>\n",
       "    </tr>\n",
       "    <tr>\n",
       "      <th>1</th>\n",
       "      <td>Always Have Popsicles</td>\n",
       "      <td>0.00</td>\n",
       "    </tr>\n",
       "  </tbody>\n",
       "</table>\n",
       "</div>"
      ],
      "text/plain": [
       "                                          Book-Title  Avg-Rating\n",
       "0   A Light in the Storm: The Civil War Diary of ...        2.25\n",
       "1                              Always Have Popsicles        0.00"
      ]
     },
     "execution_count": 36,
     "metadata": {},
     "output_type": "execute_result"
    }
   ],
   "source": [
    "avg_rating_df.head(2)"
   ]
  },
  {
   "cell_type": "code",
   "execution_count": 37,
   "id": "53a48892-281a-4cf9-a2ea-705755a2c88f",
   "metadata": {},
   "outputs": [],
   "source": [
    "popularity_df=num_rating_df.merge(avg_rating_df,on='Book-Title')"
   ]
  },
  {
   "cell_type": "code",
   "execution_count": 38,
   "id": "da212c46-1ded-4d82-b5b9-ac2604af732e",
   "metadata": {},
   "outputs": [
    {
     "data": {
      "text/html": [
       "<div>\n",
       "<style scoped>\n",
       "    .dataframe tbody tr th:only-of-type {\n",
       "        vertical-align: middle;\n",
       "    }\n",
       "\n",
       "    .dataframe tbody tr th {\n",
       "        vertical-align: top;\n",
       "    }\n",
       "\n",
       "    .dataframe thead th {\n",
       "        text-align: right;\n",
       "    }\n",
       "</style>\n",
       "<table border=\"1\" class=\"dataframe\">\n",
       "  <thead>\n",
       "    <tr style=\"text-align: right;\">\n",
       "      <th></th>\n",
       "      <th>Book-Title</th>\n",
       "      <th>Num-Rating</th>\n",
       "      <th>Avg-Rating</th>\n",
       "    </tr>\n",
       "  </thead>\n",
       "  <tbody>\n",
       "    <tr>\n",
       "      <th>0</th>\n",
       "      <td>A Light in the Storm: The Civil War Diary of ...</td>\n",
       "      <td>4</td>\n",
       "      <td>2.25</td>\n",
       "    </tr>\n",
       "    <tr>\n",
       "      <th>1</th>\n",
       "      <td>Always Have Popsicles</td>\n",
       "      <td>1</td>\n",
       "      <td>0.00</td>\n",
       "    </tr>\n",
       "  </tbody>\n",
       "</table>\n",
       "</div>"
      ],
      "text/plain": [
       "                                          Book-Title  Num-Rating  Avg-Rating\n",
       "0   A Light in the Storm: The Civil War Diary of ...           4        2.25\n",
       "1                              Always Have Popsicles           1        0.00"
      ]
     },
     "execution_count": 38,
     "metadata": {},
     "output_type": "execute_result"
    }
   ],
   "source": [
    "popularity_df.head(2)"
   ]
  },
  {
   "cell_type": "code",
   "execution_count": 39,
   "id": "72a86fb3-46ca-41e1-9c16-fcfc90bb8600",
   "metadata": {},
   "outputs": [],
   "source": [
    "popularity_df=popularity_df[popularity_df['Num-Rating']>=250].sort_values('Avg-Rating',ascending=False).head(50)"
   ]
  },
  {
   "cell_type": "code",
   "execution_count": 40,
   "id": "f4aa66c3-b942-4ef4-9399-d32737275557",
   "metadata": {},
   "outputs": [],
   "source": [
    "popularity_df['Avg-Rating']=popularity_df['Avg-Rating'].round(2)"
   ]
  },
  {
   "cell_type": "code",
   "execution_count": 41,
   "id": "cf78df36-981e-445e-9079-eba4deb225bf",
   "metadata": {},
   "outputs": [
    {
     "data": {
      "text/html": [
       "<div>\n",
       "<style scoped>\n",
       "    .dataframe tbody tr th:only-of-type {\n",
       "        vertical-align: middle;\n",
       "    }\n",
       "\n",
       "    .dataframe tbody tr th {\n",
       "        vertical-align: top;\n",
       "    }\n",
       "\n",
       "    .dataframe thead th {\n",
       "        text-align: right;\n",
       "    }\n",
       "</style>\n",
       "<table border=\"1\" class=\"dataframe\">\n",
       "  <thead>\n",
       "    <tr style=\"text-align: right;\">\n",
       "      <th></th>\n",
       "      <th>Book-Title</th>\n",
       "      <th>Num-Rating</th>\n",
       "      <th>Avg-Rating</th>\n",
       "    </tr>\n",
       "  </thead>\n",
       "  <tbody>\n",
       "    <tr>\n",
       "      <th>80434</th>\n",
       "      <td>Harry Potter and the Prisoner of Azkaban (Book 3)</td>\n",
       "      <td>428</td>\n",
       "      <td>5.85</td>\n",
       "    </tr>\n",
       "    <tr>\n",
       "      <th>80422</th>\n",
       "      <td>Harry Potter and the Goblet of Fire (Book 4)</td>\n",
       "      <td>387</td>\n",
       "      <td>5.82</td>\n",
       "    </tr>\n",
       "  </tbody>\n",
       "</table>\n",
       "</div>"
      ],
      "text/plain": [
       "                                              Book-Title  Num-Rating  \\\n",
       "80434  Harry Potter and the Prisoner of Azkaban (Book 3)         428   \n",
       "80422       Harry Potter and the Goblet of Fire (Book 4)         387   \n",
       "\n",
       "       Avg-Rating  \n",
       "80434        5.85  \n",
       "80422        5.82  "
      ]
     },
     "execution_count": 41,
     "metadata": {},
     "output_type": "execute_result"
    }
   ],
   "source": [
    "popularity_df.head(2)"
   ]
  },
  {
   "cell_type": "code",
   "execution_count": 42,
   "id": "6b5f3fbd-de73-428e-bc74-ae855940b18a",
   "metadata": {},
   "outputs": [],
   "source": [
    "popularity_df=popularity_df.merge(books,on='Book-Title').drop_duplicates('Book-Title')[['Book-Title','Book-Author','Image-URL-M','Num-Rating','Avg-Rating']]"
   ]
  },
  {
   "cell_type": "code",
   "execution_count": 43,
   "id": "1afa60a8-6b90-45db-81b0-24f66c3d2c5a",
   "metadata": {},
   "outputs": [
    {
     "data": {
      "text/html": [
       "<div>\n",
       "<style scoped>\n",
       "    .dataframe tbody tr th:only-of-type {\n",
       "        vertical-align: middle;\n",
       "    }\n",
       "\n",
       "    .dataframe tbody tr th {\n",
       "        vertical-align: top;\n",
       "    }\n",
       "\n",
       "    .dataframe thead th {\n",
       "        text-align: right;\n",
       "    }\n",
       "</style>\n",
       "<table border=\"1\" class=\"dataframe\">\n",
       "  <thead>\n",
       "    <tr style=\"text-align: right;\">\n",
       "      <th></th>\n",
       "      <th>Book-Title</th>\n",
       "      <th>Book-Author</th>\n",
       "      <th>Image-URL-M</th>\n",
       "      <th>Num-Rating</th>\n",
       "      <th>Avg-Rating</th>\n",
       "    </tr>\n",
       "  </thead>\n",
       "  <tbody>\n",
       "    <tr>\n",
       "      <th>0</th>\n",
       "      <td>Harry Potter and the Prisoner of Azkaban (Book 3)</td>\n",
       "      <td>J. K. Rowling</td>\n",
       "      <td>http://images.amazon.com/images/P/0439136350.0...</td>\n",
       "      <td>428</td>\n",
       "      <td>5.85</td>\n",
       "    </tr>\n",
       "    <tr>\n",
       "      <th>3</th>\n",
       "      <td>Harry Potter and the Goblet of Fire (Book 4)</td>\n",
       "      <td>J. K. Rowling</td>\n",
       "      <td>http://images.amazon.com/images/P/0439139597.0...</td>\n",
       "      <td>387</td>\n",
       "      <td>5.82</td>\n",
       "    </tr>\n",
       "  </tbody>\n",
       "</table>\n",
       "</div>"
      ],
      "text/plain": [
       "                                          Book-Title    Book-Author  \\\n",
       "0  Harry Potter and the Prisoner of Azkaban (Book 3)  J. K. Rowling   \n",
       "3       Harry Potter and the Goblet of Fire (Book 4)  J. K. Rowling   \n",
       "\n",
       "                                         Image-URL-M  Num-Rating  Avg-Rating  \n",
       "0  http://images.amazon.com/images/P/0439136350.0...         428        5.85  \n",
       "3  http://images.amazon.com/images/P/0439139597.0...         387        5.82  "
      ]
     },
     "execution_count": 43,
     "metadata": {},
     "output_type": "execute_result"
    }
   ],
   "source": [
    "popularity_df.head(2)"
   ]
  },
  {
   "cell_type": "code",
   "execution_count": 44,
   "id": "45a920b1-5f51-4f11-ba30-c07e5bdf53c5",
   "metadata": {},
   "outputs": [
    {
     "data": {
      "text/plain": [
       "(50, 5)"
      ]
     },
     "execution_count": 44,
     "metadata": {},
     "output_type": "execute_result"
    }
   ],
   "source": [
    "popularity_df.shape"
   ]
  },
  {
   "cell_type": "code",
   "execution_count": 45,
   "id": "439546f9-54b7-44b6-b489-313d735f4779",
   "metadata": {},
   "outputs": [
    {
     "data": {
      "image/png": "[encoded data removed]",
      "text/plain": [
       "<Figure size 640x480 with 2 Axes>"
      ]
     },
     "metadata": {},
     "output_type": "display_data"
    }
   ],
   "source": [
    "sns.heatmap(pd.crosstab(popularity_df['Book-Title'].head(10),popularity_df['Num-Rating'].head(10)))\n",
    "plt.xlabel('Number of Ratings')\n",
    "plt.ylabel('Book Title')\n",
    "plt.title('Top 10 Books by Number of Ratings')\n",
    "plt.show()"
   ]
  },
  {
   "cell_type": "code",
   "execution_count": 46,
   "id": "ff9df20f-5de9-4764-b1bd-792dcf8b97b5",
   "metadata": {},
   "outputs": [
    {
     "data": {
      "image/png": "[encoded data removed]",
      "text/plain": [
       "<Figure size 600x400 with 1 Axes>"
      ]
     },
     "metadata": {},
     "output_type": "display_data"
    }
   ],
   "source": [
    "plt.figure(figsize=(6, 4))\n",
    "sns.barplot(x=popularity_df['Avg-Rating'].head(10),y=popularity_df['Book-Title'].head(10))\n",
    "plt.xlabel('Average Rating')\n",
    "plt.ylabel('Book Title')\n",
    "plt.title('Top 10 Books by Average Rating')\n",
    "plt.show()"
   ]
  },
  {
   "cell_type": "code",
   "execution_count": 47,
   "id": "3af1b77c-be70-46aa-a252-0ec509b96eb2",
   "metadata": {},
   "outputs": [
    {
     "data": {
      "image/png": "[encoded data removed]",
      "text/plain": [
       "<Figure size 600x400 with 1 Axes>"
      ]
     },
     "metadata": {},
     "output_type": "display_data"
    }
   ],
   "source": [
    "plt.figure(figsize=(6, 4))\n",
    "sns.scatterplot(x=popularity_df['Avg-Rating'].head(15),y=popularity_df['Num-Rating'].head(15),hue=popularity_df['Book-Author'].head(15))\n",
    "plt.xlabel('Average Rating')\n",
    "plt.ylabel('Number of Ratings')\n",
    "plt.title('Number of Ratings vs Average Rating')\n",
    "plt.show()"
   ]
  },
  {
   "cell_type": "markdown",
   "id": "da265d42-d32c-43b2-b19f-31a70cbd0a4c",
   "metadata": {},
   "source": [
    "# Collaborative Filtering Based Recommender System"
   ]
  },
  {
   "cell_type": "code",
   "execution_count": 48,
   "id": "3310cf8f-d0be-432b-83f1-daa9b63de388",
   "metadata": {},
   "outputs": [],
   "source": [
    "x=ratings_with_name.groupby('User-ID').count()['Book-Rating']>200"
   ]
  },
  {
   "cell_type": "code",
   "execution_count": 49,
   "id": "3ec6394a-efc9-43ea-9abb-56f4906a067d",
   "metadata": {},
   "outputs": [],
   "source": [
    "target_users=x[x].index"
   ]
  },
  {
   "cell_type": "code",
   "execution_count": 50,
   "id": "3b38a8ec-fde7-4ee2-8c37-78de51487780",
   "metadata": {},
   "outputs": [],
   "source": [
    "filtered_rating=ratings_with_name[ratings_with_name['User-ID'].isin(target_users)]"
   ]
  },
  {
   "cell_type": "code",
   "execution_count": 51,
   "id": "09b8cdf6-1456-4a49-9f0c-5d9b9ed2e922",
   "metadata": {},
   "outputs": [
    {
     "data": {
      "text/html": [
       "<div>\n",
       "<style scoped>\n",
       "    .dataframe tbody tr th:only-of-type {\n",
       "        vertical-align: middle;\n",
       "    }\n",
       "\n",
       "    .dataframe tbody tr th {\n",
       "        vertical-align: top;\n",
       "    }\n",
       "\n",
       "    .dataframe thead th {\n",
       "        text-align: right;\n",
       "    }\n",
       "</style>\n",
       "<table border=\"1\" class=\"dataframe\">\n",
       "  <thead>\n",
       "    <tr style=\"text-align: right;\">\n",
       "      <th></th>\n",
       "      <th>User-ID</th>\n",
       "      <th>ISBN</th>\n",
       "      <th>Book-Rating</th>\n",
       "      <th>Book-Title</th>\n",
       "      <th>Book-Author</th>\n",
       "      <th>Year-Of-Publication</th>\n",
       "      <th>Publisher</th>\n",
       "      <th>Image-URL-S</th>\n",
       "      <th>Image-URL-M</th>\n",
       "      <th>Image-URL-L</th>\n",
       "    </tr>\n",
       "  </thead>\n",
       "  <tbody>\n",
       "    <tr>\n",
       "      <th>1150</th>\n",
       "      <td>277427</td>\n",
       "      <td>002542730X</td>\n",
       "      <td>10</td>\n",
       "      <td>Politically Correct Bedtime Stories: Modern Ta...</td>\n",
       "      <td>James Finn Garner</td>\n",
       "      <td>1994</td>\n",
       "      <td>John Wiley &amp;amp; Sons Inc</td>\n",
       "      <td>http://images.amazon.com/images/P/002542730X.0...</td>\n",
       "      <td>http://images.amazon.com/images/P/002542730X.0...</td>\n",
       "      <td>http://images.amazon.com/images/P/002542730X.0...</td>\n",
       "    </tr>\n",
       "    <tr>\n",
       "      <th>1151</th>\n",
       "      <td>277427</td>\n",
       "      <td>0026217457</td>\n",
       "      <td>0</td>\n",
       "      <td>Vegetarian Times Complete Cookbook</td>\n",
       "      <td>Lucy  Moll</td>\n",
       "      <td>1995</td>\n",
       "      <td>John Wiley &amp;amp; Sons</td>\n",
       "      <td>http://images.amazon.com/images/P/0026217457.0...</td>\n",
       "      <td>http://images.amazon.com/images/P/0026217457.0...</td>\n",
       "      <td>http://images.amazon.com/images/P/0026217457.0...</td>\n",
       "    </tr>\n",
       "    <tr>\n",
       "      <th>1152</th>\n",
       "      <td>277427</td>\n",
       "      <td>003008685X</td>\n",
       "      <td>8</td>\n",
       "      <td>Pioneers</td>\n",
       "      <td>James Fenimore Cooper</td>\n",
       "      <td>1974</td>\n",
       "      <td>Thomson Learning</td>\n",
       "      <td>http://images.amazon.com/images/P/003008685X.0...</td>\n",
       "      <td>http://images.amazon.com/images/P/003008685X.0...</td>\n",
       "      <td>http://images.amazon.com/images/P/003008685X.0...</td>\n",
       "    </tr>\n",
       "    <tr>\n",
       "      <th>1153</th>\n",
       "      <td>277427</td>\n",
       "      <td>0030615321</td>\n",
       "      <td>0</td>\n",
       "      <td>Ask for May, Settle for June (A Doonesbury book)</td>\n",
       "      <td>G. B. Trudeau</td>\n",
       "      <td>1982</td>\n",
       "      <td>Henry Holt &amp;amp; Co</td>\n",
       "      <td>http://images.amazon.com/images/P/0030615321.0...</td>\n",
       "      <td>http://images.amazon.com/images/P/0030615321.0...</td>\n",
       "      <td>http://images.amazon.com/images/P/0030615321.0...</td>\n",
       "    </tr>\n",
       "    <tr>\n",
       "      <th>1154</th>\n",
       "      <td>277427</td>\n",
       "      <td>0060002050</td>\n",
       "      <td>0</td>\n",
       "      <td>On a Wicked Dawn (Cynster Novels)</td>\n",
       "      <td>Stephanie Laurens</td>\n",
       "      <td>2002</td>\n",
       "      <td>Avon Books</td>\n",
       "      <td>http://images.amazon.com/images/P/0060002050.0...</td>\n",
       "      <td>http://images.amazon.com/images/P/0060002050.0...</td>\n",
       "      <td>http://images.amazon.com/images/P/0060002050.0...</td>\n",
       "    </tr>\n",
       "  </tbody>\n",
       "</table>\n",
       "</div>"
      ],
      "text/plain": [
       "      User-ID        ISBN  Book-Rating  \\\n",
       "1150   277427  002542730X           10   \n",
       "1151   277427  0026217457            0   \n",
       "1152   277427  003008685X            8   \n",
       "1153   277427  0030615321            0   \n",
       "1154   277427  0060002050            0   \n",
       "\n",
       "                                             Book-Title  \\\n",
       "1150  Politically Correct Bedtime Stories: Modern Ta...   \n",
       "1151                 Vegetarian Times Complete Cookbook   \n",
       "1152                                           Pioneers   \n",
       "1153   Ask for May, Settle for June (A Doonesbury book)   \n",
       "1154                  On a Wicked Dawn (Cynster Novels)   \n",
       "\n",
       "                Book-Author Year-Of-Publication                  Publisher  \\\n",
       "1150      James Finn Garner                1994  John Wiley &amp; Sons Inc   \n",
       "1151             Lucy  Moll                1995      John Wiley &amp; Sons   \n",
       "1152  James Fenimore Cooper                1974           Thomson Learning   \n",
       "1153          G. B. Trudeau                1982        Henry Holt &amp; Co   \n",
       "1154      Stephanie Laurens                2002                 Avon Books   \n",
       "\n",
       "                                            Image-URL-S  \\\n",
       "1150  http://images.amazon.com/images/P/002542730X.0...   \n",
       "1151  http://images.amazon.com/images/P/0026217457.0...   \n",
       "1152  http://images.amazon.com/images/P/003008685X.0...   \n",
       "1153  http://images.amazon.com/images/P/0030615321.0...   \n",
       "1154  http://images.amazon.com/images/P/0060002050.0...   \n",
       "\n",
       "                                            Image-URL-M  \\\n",
       "1150  http://images.amazon.com/images/P/002542730X.0...   \n",
       "1151  http://images.amazon.com/images/P/0026217457.0...   \n",
       "1152  http://images.amazon.com/images/P/003008685X.0...   \n",
       "1153  http://images.amazon.com/images/P/0030615321.0...   \n",
       "1154  http://images.amazon.com/images/P/0060002050.0...   \n",
       "\n",
       "                                            Image-URL-L  \n",
       "1150  http://images.amazon.com/images/P/002542730X.0...  \n",
       "1151  http://images.amazon.com/images/P/0026217457.0...  \n",
       "1152  http://images.amazon.com/images/P/003008685X.0...  \n",
       "1153  http://images.amazon.com/images/P/0030615321.0...  \n",
       "1154  http://images.amazon.com/images/P/0060002050.0...  "
      ]
     },
     "execution_count": 51,
     "metadata": {},
     "output_type": "execute_result"
    }
   ],
   "source": [
    "filtered_rating.head()"
   ]
  },
  {
   "cell_type": "code",
   "execution_count": 52,
   "id": "0f9ed371-3902-4918-9acb-c5eeff705518",
   "metadata": {},
   "outputs": [
    {
     "data": {
      "text/plain": [
       "(474007, 10)"
      ]
     },
     "execution_count": 52,
     "metadata": {},
     "output_type": "execute_result"
    }
   ],
   "source": [
    "filtered_rating.shape"
   ]
  },
  {
   "cell_type": "code",
   "execution_count": 53,
   "id": "861de591-5aac-4960-a275-e92d9a20ab85",
   "metadata": {},
   "outputs": [],
   "source": [
    "y=filtered_rating.groupby('Book-Title').count()['Book-Rating']>=50"
   ]
  },
  {
   "cell_type": "code",
   "execution_count": 54,
   "id": "ae393726-a3b3-4e81-b424-e94e248341a2",
   "metadata": {},
   "outputs": [],
   "source": [
    "famous_books=y[y].index"
   ]
  },
  {
   "cell_type": "code",
   "execution_count": 55,
   "id": "41106313-9fbf-4bd5-9cc5-fbc2bc357072",
   "metadata": {},
   "outputs": [],
   "source": [
    "final_ratings=filtered_rating[filtered_rating['Book-Title'].isin(famous_books)]"
   ]
  },
  {
   "cell_type": "code",
   "execution_count": 56,
   "id": "88daf065-c1d5-4e57-826b-925e2a93e705",
   "metadata": {},
   "outputs": [
    {
     "data": {
      "text/plain": [
       "Book-Title\n",
       "1984                                                                 True\n",
       "1st to Die: A Novel                                                  True\n",
       "2nd Chance                                                           True\n",
       "4 Blondes                                                            True\n",
       "A Bend in the Road                                                   True\n",
       "                                                                     ... \n",
       "Year of Wonders                                                      True\n",
       "You Belong To Me                                                     True\n",
       "Zen and the Art of Motorcycle Maintenance: An Inquiry into Values    True\n",
       "Zoya                                                                 True\n",
       "\\O\\\" Is for Outlaw\"                                                  True\n",
       "Name: Book-Rating, Length: 706, dtype: bool"
      ]
     },
     "execution_count": 56,
     "metadata": {},
     "output_type": "execute_result"
    }
   ],
   "source": [
    "y[y]"
   ]
  },
  {
   "cell_type": "code",
   "execution_count": 57,
   "id": "03cd15c8-e317-4237-927b-37a0f21b8fdd",
   "metadata": {},
   "outputs": [
    {
     "data": {
      "text/plain": [
       "Index(['1984', '1st to Die: A Novel', '2nd Chance', '4 Blondes',\n",
       "       'A Bend in the Road', 'A Case of Need',\n",
       "       'A Child Called \\It\\\": One Child's Courage to Survive\"',\n",
       "       'A Civil Action', 'A Day Late and a Dollar Short', 'A Fine Balance',\n",
       "       ...\n",
       "       'Winter Solstice', 'Wish You Well', 'Without Remorse',\n",
       "       'Wizard and Glass (The Dark Tower, Book 4)', 'Wuthering Heights',\n",
       "       'Year of Wonders', 'You Belong To Me',\n",
       "       'Zen and the Art of Motorcycle Maintenance: An Inquiry into Values',\n",
       "       'Zoya', '\\O\\\" Is for Outlaw\"'],\n",
       "      dtype='object', name='Book-Title', length=706)"
      ]
     },
     "execution_count": 57,
     "metadata": {},
     "output_type": "execute_result"
    }
   ],
   "source": [
    "famous_books"
   ]
  },
  {
   "cell_type": "code",
   "execution_count": 58,
   "id": "7faa5375-2499-4317-8600-4f39d7a73139",
   "metadata": {},
   "outputs": [
    {
     "data": {
      "text/html": [
       "<div>\n",
       "<style scoped>\n",
       "    .dataframe tbody tr th:only-of-type {\n",
       "        vertical-align: middle;\n",
       "    }\n",
       "\n",
       "    .dataframe tbody tr th {\n",
       "        vertical-align: top;\n",
       "    }\n",
       "\n",
       "    .dataframe thead th {\n",
       "        text-align: right;\n",
       "    }\n",
       "</style>\n",
       "<table border=\"1\" class=\"dataframe\">\n",
       "  <thead>\n",
       "    <tr style=\"text-align: right;\">\n",
       "      <th></th>\n",
       "      <th>User-ID</th>\n",
       "      <th>ISBN</th>\n",
       "      <th>Book-Rating</th>\n",
       "      <th>Book-Title</th>\n",
       "      <th>Book-Author</th>\n",
       "      <th>Year-Of-Publication</th>\n",
       "      <th>Publisher</th>\n",
       "      <th>Image-URL-S</th>\n",
       "      <th>Image-URL-M</th>\n",
       "      <th>Image-URL-L</th>\n",
       "    </tr>\n",
       "  </thead>\n",
       "  <tbody>\n",
       "    <tr>\n",
       "      <th>1150</th>\n",
       "      <td>277427</td>\n",
       "      <td>002542730X</td>\n",
       "      <td>10</td>\n",
       "      <td>Politically Correct Bedtime Stories: Modern Ta...</td>\n",
       "      <td>James Finn Garner</td>\n",
       "      <td>1994</td>\n",
       "      <td>John Wiley &amp;amp; Sons Inc</td>\n",
       "      <td>http://images.amazon.com/images/P/002542730X.0...</td>\n",
       "      <td>http://images.amazon.com/images/P/002542730X.0...</td>\n",
       "      <td>http://images.amazon.com/images/P/002542730X.0...</td>\n",
       "    </tr>\n",
       "    <tr>\n",
       "      <th>1163</th>\n",
       "      <td>277427</td>\n",
       "      <td>0060930535</td>\n",
       "      <td>0</td>\n",
       "      <td>The Poisonwood Bible: A Novel</td>\n",
       "      <td>Barbara Kingsolver</td>\n",
       "      <td>1999</td>\n",
       "      <td>Perennial</td>\n",
       "      <td>http://images.amazon.com/images/P/0060930535.0...</td>\n",
       "      <td>http://images.amazon.com/images/P/0060930535.0...</td>\n",
       "      <td>http://images.amazon.com/images/P/0060930535.0...</td>\n",
       "    </tr>\n",
       "  </tbody>\n",
       "</table>\n",
       "</div>"
      ],
      "text/plain": [
       "      User-ID        ISBN  Book-Rating  \\\n",
       "1150   277427  002542730X           10   \n",
       "1163   277427  0060930535            0   \n",
       "\n",
       "                                             Book-Title         Book-Author  \\\n",
       "1150  Politically Correct Bedtime Stories: Modern Ta...   James Finn Garner   \n",
       "1163                      The Poisonwood Bible: A Novel  Barbara Kingsolver   \n",
       "\n",
       "     Year-Of-Publication                  Publisher  \\\n",
       "1150                1994  John Wiley &amp; Sons Inc   \n",
       "1163                1999                  Perennial   \n",
       "\n",
       "                                            Image-URL-S  \\\n",
       "1150  http://images.amazon.com/images/P/002542730X.0...   \n",
       "1163  http://images.amazon.com/images/P/0060930535.0...   \n",
       "\n",
       "                                            Image-URL-M  \\\n",
       "1150  http://images.amazon.com/images/P/002542730X.0...   \n",
       "1163  http://images.amazon.com/images/P/0060930535.0...   \n",
       "\n",
       "                                            Image-URL-L  \n",
       "1150  http://images.amazon.com/images/P/002542730X.0...  \n",
       "1163  http://images.amazon.com/images/P/0060930535.0...  "
      ]
     },
     "execution_count": 58,
     "metadata": {},
     "output_type": "execute_result"
    }
   ],
   "source": [
    "final_ratings.head(2)"
   ]
  },
  {
   "cell_type": "code",
   "execution_count": 59,
   "id": "9d12779e-4700-43e4-ab6c-d987a9e84678",
   "metadata": {},
   "outputs": [
    {
     "data": {
      "text/plain": [
       "(58586, 10)"
      ]
     },
     "execution_count": 59,
     "metadata": {},
     "output_type": "execute_result"
    }
   ],
   "source": [
    "final_ratings.shape"
   ]
  },
  {
   "cell_type": "code",
   "execution_count": 60,
   "id": "5c3f4067-b3d6-4db3-ae1b-374d6d670805",
   "metadata": {},
   "outputs": [
    {
     "data": {
      "text/plain": [
       "0"
      ]
     },
     "execution_count": 60,
     "metadata": {},
     "output_type": "execute_result"
    }
   ],
   "source": [
    "final_ratings.duplicated().sum()"
   ]
  },
  {
   "cell_type": "code",
   "execution_count": 61,
   "id": "ef695335-99ea-4254-8e05-27596ca5b48e",
   "metadata": {},
   "outputs": [
    {
     "data": {
      "text/plain": [
       "User-ID                0\n",
       "ISBN                   0\n",
       "Book-Rating            0\n",
       "Book-Title             0\n",
       "Book-Author            0\n",
       "Year-Of-Publication    0\n",
       "Publisher              0\n",
       "Image-URL-S            0\n",
       "Image-URL-M            0\n",
       "Image-URL-L            0\n",
       "dtype: int64"
      ]
     },
     "execution_count": 61,
     "metadata": {},
     "output_type": "execute_result"
    }
   ],
   "source": [
    "final_ratings.isnull().sum()"
   ]
  },
  {
   "cell_type": "code",
   "execution_count": 62,
   "id": "59182a5d-35dd-46f2-b351-e0a4ba4d5e14",
   "metadata": {},
   "outputs": [],
   "source": [
    "pt=final_ratings.pivot_table(index='Book-Title',columns='User-ID',values='Book-Rating')"
   ]
  },
  {
   "cell_type": "code",
   "execution_count": 63,
   "id": "8febc6d6-89b2-43b5-82ce-7d2016cc7ea7",
   "metadata": {},
   "outputs": [
    {
     "data": {
      "text/html": [
       "<div>\n",
       "<style scoped>\n",
       "    .dataframe tbody tr th:only-of-type {\n",
       "        vertical-align: middle;\n",
       "    }\n",
       "\n",
       "    .dataframe tbody tr th {\n",
       "        vertical-align: top;\n",
       "    }\n",
       "\n",
       "    .dataframe thead th {\n",
       "        text-align: right;\n",
       "    }\n",
       "</style>\n",
       "<table border=\"1\" class=\"dataframe\">\n",
       "  <thead>\n",
       "    <tr style=\"text-align: right;\">\n",
       "      <th>User-ID</th>\n",
       "      <th>254</th>\n",
       "      <th>2276</th>\n",
       "      <th>2766</th>\n",
       "      <th>2977</th>\n",
       "      <th>3363</th>\n",
       "      <th>4017</th>\n",
       "      <th>4385</th>\n",
       "      <th>6251</th>\n",
       "      <th>6323</th>\n",
       "      <th>6543</th>\n",
       "      <th>...</th>\n",
       "      <th>271705</th>\n",
       "      <th>273979</th>\n",
       "      <th>274004</th>\n",
       "      <th>274061</th>\n",
       "      <th>274301</th>\n",
       "      <th>274308</th>\n",
       "      <th>275970</th>\n",
       "      <th>277427</th>\n",
       "      <th>277639</th>\n",
       "      <th>278418</th>\n",
       "    </tr>\n",
       "    <tr>\n",
       "      <th>Book-Title</th>\n",
       "      <th></th>\n",
       "      <th></th>\n",
       "      <th></th>\n",
       "      <th></th>\n",
       "      <th></th>\n",
       "      <th></th>\n",
       "      <th></th>\n",
       "      <th></th>\n",
       "      <th></th>\n",
       "      <th></th>\n",
       "      <th></th>\n",
       "      <th></th>\n",
       "      <th></th>\n",
       "      <th></th>\n",
       "      <th></th>\n",
       "      <th></th>\n",
       "      <th></th>\n",
       "      <th></th>\n",
       "      <th></th>\n",
       "      <th></th>\n",
       "      <th></th>\n",
       "    </tr>\n",
       "  </thead>\n",
       "  <tbody>\n",
       "    <tr>\n",
       "      <th>1984</th>\n",
       "      <td>9.0</td>\n",
       "      <td>NaN</td>\n",
       "      <td>NaN</td>\n",
       "      <td>NaN</td>\n",
       "      <td>NaN</td>\n",
       "      <td>NaN</td>\n",
       "      <td>NaN</td>\n",
       "      <td>NaN</td>\n",
       "      <td>NaN</td>\n",
       "      <td>NaN</td>\n",
       "      <td>...</td>\n",
       "      <td>10.0</td>\n",
       "      <td>NaN</td>\n",
       "      <td>NaN</td>\n",
       "      <td>NaN</td>\n",
       "      <td>NaN</td>\n",
       "      <td>NaN</td>\n",
       "      <td>0.0</td>\n",
       "      <td>NaN</td>\n",
       "      <td>NaN</td>\n",
       "      <td>NaN</td>\n",
       "    </tr>\n",
       "    <tr>\n",
       "      <th>1st to Die: A Novel</th>\n",
       "      <td>NaN</td>\n",
       "      <td>NaN</td>\n",
       "      <td>NaN</td>\n",
       "      <td>NaN</td>\n",
       "      <td>NaN</td>\n",
       "      <td>NaN</td>\n",
       "      <td>NaN</td>\n",
       "      <td>NaN</td>\n",
       "      <td>NaN</td>\n",
       "      <td>9.0</td>\n",
       "      <td>...</td>\n",
       "      <td>NaN</td>\n",
       "      <td>NaN</td>\n",
       "      <td>NaN</td>\n",
       "      <td>NaN</td>\n",
       "      <td>NaN</td>\n",
       "      <td>NaN</td>\n",
       "      <td>NaN</td>\n",
       "      <td>NaN</td>\n",
       "      <td>NaN</td>\n",
       "      <td>NaN</td>\n",
       "    </tr>\n",
       "    <tr>\n",
       "      <th>2nd Chance</th>\n",
       "      <td>NaN</td>\n",
       "      <td>10.0</td>\n",
       "      <td>NaN</td>\n",
       "      <td>NaN</td>\n",
       "      <td>NaN</td>\n",
       "      <td>NaN</td>\n",
       "      <td>NaN</td>\n",
       "      <td>NaN</td>\n",
       "      <td>NaN</td>\n",
       "      <td>0.0</td>\n",
       "      <td>...</td>\n",
       "      <td>NaN</td>\n",
       "      <td>NaN</td>\n",
       "      <td>NaN</td>\n",
       "      <td>NaN</td>\n",
       "      <td>NaN</td>\n",
       "      <td>0.0</td>\n",
       "      <td>NaN</td>\n",
       "      <td>NaN</td>\n",
       "      <td>0.0</td>\n",
       "      <td>NaN</td>\n",
       "    </tr>\n",
       "    <tr>\n",
       "      <th>4 Blondes</th>\n",
       "      <td>NaN</td>\n",
       "      <td>NaN</td>\n",
       "      <td>NaN</td>\n",
       "      <td>NaN</td>\n",
       "      <td>NaN</td>\n",
       "      <td>NaN</td>\n",
       "      <td>NaN</td>\n",
       "      <td>0.0</td>\n",
       "      <td>NaN</td>\n",
       "      <td>NaN</td>\n",
       "      <td>...</td>\n",
       "      <td>NaN</td>\n",
       "      <td>NaN</td>\n",
       "      <td>NaN</td>\n",
       "      <td>NaN</td>\n",
       "      <td>NaN</td>\n",
       "      <td>NaN</td>\n",
       "      <td>NaN</td>\n",
       "      <td>NaN</td>\n",
       "      <td>NaN</td>\n",
       "      <td>NaN</td>\n",
       "    </tr>\n",
       "    <tr>\n",
       "      <th>A Bend in the Road</th>\n",
       "      <td>0.0</td>\n",
       "      <td>NaN</td>\n",
       "      <td>7.0</td>\n",
       "      <td>NaN</td>\n",
       "      <td>NaN</td>\n",
       "      <td>NaN</td>\n",
       "      <td>NaN</td>\n",
       "      <td>NaN</td>\n",
       "      <td>NaN</td>\n",
       "      <td>NaN</td>\n",
       "      <td>...</td>\n",
       "      <td>NaN</td>\n",
       "      <td>0.0</td>\n",
       "      <td>NaN</td>\n",
       "      <td>NaN</td>\n",
       "      <td>NaN</td>\n",
       "      <td>NaN</td>\n",
       "      <td>NaN</td>\n",
       "      <td>NaN</td>\n",
       "      <td>NaN</td>\n",
       "      <td>NaN</td>\n",
       "    </tr>\n",
       "    <tr>\n",
       "      <th>...</th>\n",
       "      <td>...</td>\n",
       "      <td>...</td>\n",
       "      <td>...</td>\n",
       "      <td>...</td>\n",
       "      <td>...</td>\n",
       "      <td>...</td>\n",
       "      <td>...</td>\n",
       "      <td>...</td>\n",
       "      <td>...</td>\n",
       "      <td>...</td>\n",
       "      <td>...</td>\n",
       "      <td>...</td>\n",
       "      <td>...</td>\n",
       "      <td>...</td>\n",
       "      <td>...</td>\n",
       "      <td>...</td>\n",
       "      <td>...</td>\n",
       "      <td>...</td>\n",
       "      <td>...</td>\n",
       "      <td>...</td>\n",
       "      <td>...</td>\n",
       "    </tr>\n",
       "    <tr>\n",
       "      <th>Year of Wonders</th>\n",
       "      <td>NaN</td>\n",
       "      <td>NaN</td>\n",
       "      <td>NaN</td>\n",
       "      <td>7.0</td>\n",
       "      <td>NaN</td>\n",
       "      <td>NaN</td>\n",
       "      <td>NaN</td>\n",
       "      <td>NaN</td>\n",
       "      <td>NaN</td>\n",
       "      <td>0.0</td>\n",
       "      <td>...</td>\n",
       "      <td>NaN</td>\n",
       "      <td>9.0</td>\n",
       "      <td>NaN</td>\n",
       "      <td>NaN</td>\n",
       "      <td>NaN</td>\n",
       "      <td>NaN</td>\n",
       "      <td>0.0</td>\n",
       "      <td>NaN</td>\n",
       "      <td>NaN</td>\n",
       "      <td>NaN</td>\n",
       "    </tr>\n",
       "    <tr>\n",
       "      <th>You Belong To Me</th>\n",
       "      <td>NaN</td>\n",
       "      <td>NaN</td>\n",
       "      <td>NaN</td>\n",
       "      <td>NaN</td>\n",
       "      <td>NaN</td>\n",
       "      <td>NaN</td>\n",
       "      <td>NaN</td>\n",
       "      <td>NaN</td>\n",
       "      <td>0.0</td>\n",
       "      <td>NaN</td>\n",
       "      <td>...</td>\n",
       "      <td>NaN</td>\n",
       "      <td>NaN</td>\n",
       "      <td>NaN</td>\n",
       "      <td>NaN</td>\n",
       "      <td>NaN</td>\n",
       "      <td>NaN</td>\n",
       "      <td>NaN</td>\n",
       "      <td>NaN</td>\n",
       "      <td>NaN</td>\n",
       "      <td>NaN</td>\n",
       "    </tr>\n",
       "    <tr>\n",
       "      <th>Zen and the Art of Motorcycle Maintenance: An Inquiry into Values</th>\n",
       "      <td>NaN</td>\n",
       "      <td>NaN</td>\n",
       "      <td>NaN</td>\n",
       "      <td>NaN</td>\n",
       "      <td>0.0</td>\n",
       "      <td>NaN</td>\n",
       "      <td>NaN</td>\n",
       "      <td>0.0</td>\n",
       "      <td>NaN</td>\n",
       "      <td>NaN</td>\n",
       "      <td>...</td>\n",
       "      <td>NaN</td>\n",
       "      <td>NaN</td>\n",
       "      <td>NaN</td>\n",
       "      <td>NaN</td>\n",
       "      <td>NaN</td>\n",
       "      <td>NaN</td>\n",
       "      <td>0.0</td>\n",
       "      <td>NaN</td>\n",
       "      <td>NaN</td>\n",
       "      <td>NaN</td>\n",
       "    </tr>\n",
       "    <tr>\n",
       "      <th>Zoya</th>\n",
       "      <td>NaN</td>\n",
       "      <td>NaN</td>\n",
       "      <td>NaN</td>\n",
       "      <td>NaN</td>\n",
       "      <td>NaN</td>\n",
       "      <td>NaN</td>\n",
       "      <td>NaN</td>\n",
       "      <td>NaN</td>\n",
       "      <td>NaN</td>\n",
       "      <td>NaN</td>\n",
       "      <td>...</td>\n",
       "      <td>NaN</td>\n",
       "      <td>0.0</td>\n",
       "      <td>NaN</td>\n",
       "      <td>NaN</td>\n",
       "      <td>NaN</td>\n",
       "      <td>NaN</td>\n",
       "      <td>NaN</td>\n",
       "      <td>NaN</td>\n",
       "      <td>NaN</td>\n",
       "      <td>NaN</td>\n",
       "    </tr>\n",
       "    <tr>\n",
       "      <th>\\O\\\" Is for Outlaw\"</th>\n",
       "      <td>NaN</td>\n",
       "      <td>NaN</td>\n",
       "      <td>NaN</td>\n",
       "      <td>NaN</td>\n",
       "      <td>NaN</td>\n",
       "      <td>NaN</td>\n",
       "      <td>NaN</td>\n",
       "      <td>NaN</td>\n",
       "      <td>NaN</td>\n",
       "      <td>NaN</td>\n",
       "      <td>...</td>\n",
       "      <td>NaN</td>\n",
       "      <td>NaN</td>\n",
       "      <td>NaN</td>\n",
       "      <td>NaN</td>\n",
       "      <td>8.0</td>\n",
       "      <td>NaN</td>\n",
       "      <td>NaN</td>\n",
       "      <td>NaN</td>\n",
       "      <td>NaN</td>\n",
       "      <td>NaN</td>\n",
       "    </tr>\n",
       "  </tbody>\n",
       "</table>\n",
       "<p>706 rows × 810 columns</p>\n",
       "</div>"
      ],
      "text/plain": [
       "User-ID                                             254     2276    2766    \\\n",
       "Book-Title                                                                   \n",
       "1984                                                   9.0     NaN     NaN   \n",
       "1st to Die: A Novel                                    NaN     NaN     NaN   \n",
       "2nd Chance                                             NaN    10.0     NaN   \n",
       "4 Blondes                                              NaN     NaN     NaN   \n",
       "A Bend in the Road                                     0.0     NaN     7.0   \n",
       "...                                                    ...     ...     ...   \n",
       "Year of Wonders                                        NaN     NaN     NaN   \n",
       "You Belong To Me                                       NaN     NaN     NaN   \n",
       "Zen and the Art of Motorcycle Maintenance: An I...     NaN     NaN     NaN   \n",
       "Zoya                                                   NaN     NaN     NaN   \n",
       "\\O\\\" Is for Outlaw\"                                    NaN     NaN     NaN   \n",
       "\n",
       "User-ID                                             2977    3363    4017    \\\n",
       "Book-Title                                                                   \n",
       "1984                                                   NaN     NaN     NaN   \n",
       "1st to Die: A Novel                                    NaN     NaN     NaN   \n",
       "2nd Chance                                             NaN     NaN     NaN   \n",
       "4 Blondes                                              NaN     NaN     NaN   \n",
       "A Bend in the Road                                     NaN     NaN     NaN   \n",
       "...                                                    ...     ...     ...   \n",
       "Year of Wonders                                        7.0     NaN     NaN   \n",
       "You Belong To Me                                       NaN     NaN     NaN   \n",
       "Zen and the Art of Motorcycle Maintenance: An I...     NaN     0.0     NaN   \n",
       "Zoya                                                   NaN     NaN     NaN   \n",
       "\\O\\\" Is for Outlaw\"                                    NaN     NaN     NaN   \n",
       "\n",
       "User-ID                                             4385    6251    6323    \\\n",
       "Book-Title                                                                   \n",
       "1984                                                   NaN     NaN     NaN   \n",
       "1st to Die: A Novel                                    NaN     NaN     NaN   \n",
       "2nd Chance                                             NaN     NaN     NaN   \n",
       "4 Blondes                                              NaN     0.0     NaN   \n",
       "A Bend in the Road                                     NaN     NaN     NaN   \n",
       "...                                                    ...     ...     ...   \n",
       "Year of Wonders                                        NaN     NaN     NaN   \n",
       "You Belong To Me                                       NaN     NaN     0.0   \n",
       "Zen and the Art of Motorcycle Maintenance: An I...     NaN     0.0     NaN   \n",
       "Zoya                                                   NaN     NaN     NaN   \n",
       "\\O\\\" Is for Outlaw\"                                    NaN     NaN     NaN   \n",
       "\n",
       "User-ID                                             6543    ...  271705  \\\n",
       "Book-Title                                                  ...           \n",
       "1984                                                   NaN  ...    10.0   \n",
       "1st to Die: A Novel                                    9.0  ...     NaN   \n",
       "2nd Chance                                             0.0  ...     NaN   \n",
       "4 Blondes                                              NaN  ...     NaN   \n",
       "A Bend in the Road                                     NaN  ...     NaN   \n",
       "...                                                    ...  ...     ...   \n",
       "Year of Wonders                                        0.0  ...     NaN   \n",
       "You Belong To Me                                       NaN  ...     NaN   \n",
       "Zen and the Art of Motorcycle Maintenance: An I...     NaN  ...     NaN   \n",
       "Zoya                                                   NaN  ...     NaN   \n",
       "\\O\\\" Is for Outlaw\"                                    NaN  ...     NaN   \n",
       "\n",
       "User-ID                                             273979  274004  274061  \\\n",
       "Book-Title                                                                   \n",
       "1984                                                   NaN     NaN     NaN   \n",
       "1st to Die: A Novel                                    NaN     NaN     NaN   \n",
       "2nd Chance                                             NaN     NaN     NaN   \n",
       "4 Blondes                                              NaN     NaN     NaN   \n",
       "A Bend in the Road                                     0.0     NaN     NaN   \n",
       "...                                                    ...     ...     ...   \n",
       "Year of Wonders                                        9.0     NaN     NaN   \n",
       "You Belong To Me                                       NaN     NaN     NaN   \n",
       "Zen and the Art of Motorcycle Maintenance: An I...     NaN     NaN     NaN   \n",
       "Zoya                                                   0.0     NaN     NaN   \n",
       "\\O\\\" Is for Outlaw\"                                    NaN     NaN     NaN   \n",
       "\n",
       "User-ID                                             274301  274308  275970  \\\n",
       "Book-Title                                                                   \n",
       "1984                                                   NaN     NaN     0.0   \n",
       "1st to Die: A Novel                                    NaN     NaN     NaN   \n",
       "2nd Chance                                             NaN     0.0     NaN   \n",
       "4 Blondes                                              NaN     NaN     NaN   \n",
       "A Bend in the Road                                     NaN     NaN     NaN   \n",
       "...                                                    ...     ...     ...   \n",
       "Year of Wonders                                        NaN     NaN     0.0   \n",
       "You Belong To Me                                       NaN     NaN     NaN   \n",
       "Zen and the Art of Motorcycle Maintenance: An I...     NaN     NaN     0.0   \n",
       "Zoya                                                   NaN     NaN     NaN   \n",
       "\\O\\\" Is for Outlaw\"                                    8.0     NaN     NaN   \n",
       "\n",
       "User-ID                                             277427  277639  278418  \n",
       "Book-Title                                                                  \n",
       "1984                                                   NaN     NaN     NaN  \n",
       "1st to Die: A Novel                                    NaN     NaN     NaN  \n",
       "2nd Chance                                             NaN     0.0     NaN  \n",
       "4 Blondes                                              NaN     NaN     NaN  \n",
       "A Bend in the Road                                     NaN     NaN     NaN  \n",
       "...                                                    ...     ...     ...  \n",
       "Year of Wonders                                        NaN     NaN     NaN  \n",
       "You Belong To Me                                       NaN     NaN     NaN  \n",
       "Zen and the Art of Motorcycle Maintenance: An I...     NaN     NaN     NaN  \n",
       "Zoya                                                   NaN     NaN     NaN  \n",
       "\\O\\\" Is for Outlaw\"                                    NaN     NaN     NaN  \n",
       "\n",
       "[706 rows x 810 columns]"
      ]
     },
     "execution_count": 63,
     "metadata": {},
     "output_type": "execute_result"
    }
   ],
   "source": [
    "pt"
   ]
  },
  {
   "cell_type": "code",
   "execution_count": 64,
   "id": "c6a67d76-75fb-4f16-b937-5ca67db86461",
   "metadata": {},
   "outputs": [
    {
     "data": {
      "text/plain": [
       "(706, 810)"
      ]
     },
     "execution_count": 64,
     "metadata": {},
     "output_type": "execute_result"
    }
   ],
   "source": [
    "pt.shape"
   ]
  },
  {
   "cell_type": "code",
   "execution_count": 65,
   "id": "fdb039fc-6136-486c-a5af-0dc90de029dd",
   "metadata": {},
   "outputs": [],
   "source": [
    "pt.fillna(0,inplace=True)"
   ]
  },
  {
   "cell_type": "code",
   "execution_count": 66,
   "id": "fd6aca23-4cdf-4fc1-a3c4-36433216b61c",
   "metadata": {},
   "outputs": [
    {
     "data": {
      "text/html": [
       "<div>\n",
       "<style scoped>\n",
       "    .dataframe tbody tr th:only-of-type {\n",
       "        vertical-align: middle;\n",
       "    }\n",
       "\n",
       "    .dataframe tbody tr th {\n",
       "        vertical-align: top;\n",
       "    }\n",
       "\n",
       "    .dataframe thead th {\n",
       "        text-align: right;\n",
       "    }\n",
       "</style>\n",
       "<table border=\"1\" class=\"dataframe\">\n",
       "  <thead>\n",
       "    <tr style=\"text-align: right;\">\n",
       "      <th>User-ID</th>\n",
       "      <th>254</th>\n",
       "      <th>2276</th>\n",
       "      <th>2766</th>\n",
       "      <th>2977</th>\n",
       "      <th>3363</th>\n",
       "      <th>4017</th>\n",
       "      <th>4385</th>\n",
       "      <th>6251</th>\n",
       "      <th>6323</th>\n",
       "      <th>6543</th>\n",
       "      <th>...</th>\n",
       "      <th>271705</th>\n",
       "      <th>273979</th>\n",
       "      <th>274004</th>\n",
       "      <th>274061</th>\n",
       "      <th>274301</th>\n",
       "      <th>274308</th>\n",
       "      <th>275970</th>\n",
       "      <th>277427</th>\n",
       "      <th>277639</th>\n",
       "      <th>278418</th>\n",
       "    </tr>\n",
       "    <tr>\n",
       "      <th>Book-Title</th>\n",
       "      <th></th>\n",
       "      <th></th>\n",
       "      <th></th>\n",
       "      <th></th>\n",
       "      <th></th>\n",
       "      <th></th>\n",
       "      <th></th>\n",
       "      <th></th>\n",
       "      <th></th>\n",
       "      <th></th>\n",
       "      <th></th>\n",
       "      <th></th>\n",
       "      <th></th>\n",
       "      <th></th>\n",
       "      <th></th>\n",
       "      <th></th>\n",
       "      <th></th>\n",
       "      <th></th>\n",
       "      <th></th>\n",
       "      <th></th>\n",
       "      <th></th>\n",
       "    </tr>\n",
       "  </thead>\n",
       "  <tbody>\n",
       "    <tr>\n",
       "      <th>1984</th>\n",
       "      <td>9.0</td>\n",
       "      <td>0.0</td>\n",
       "      <td>0.0</td>\n",
       "      <td>0.0</td>\n",
       "      <td>0.0</td>\n",
       "      <td>0.0</td>\n",
       "      <td>0.0</td>\n",
       "      <td>0.0</td>\n",
       "      <td>0.0</td>\n",
       "      <td>0.0</td>\n",
       "      <td>...</td>\n",
       "      <td>10.0</td>\n",
       "      <td>0.0</td>\n",
       "      <td>0.0</td>\n",
       "      <td>0.0</td>\n",
       "      <td>0.0</td>\n",
       "      <td>0.0</td>\n",
       "      <td>0.0</td>\n",
       "      <td>0.0</td>\n",
       "      <td>0.0</td>\n",
       "      <td>0.0</td>\n",
       "    </tr>\n",
       "    <tr>\n",
       "      <th>1st to Die: A Novel</th>\n",
       "      <td>0.0</td>\n",
       "      <td>0.0</td>\n",
       "      <td>0.0</td>\n",
       "      <td>0.0</td>\n",
       "      <td>0.0</td>\n",
       "      <td>0.0</td>\n",
       "      <td>0.0</td>\n",
       "      <td>0.0</td>\n",
       "      <td>0.0</td>\n",
       "      <td>9.0</td>\n",
       "      <td>...</td>\n",
       "      <td>0.0</td>\n",
       "      <td>0.0</td>\n",
       "      <td>0.0</td>\n",
       "      <td>0.0</td>\n",
       "      <td>0.0</td>\n",
       "      <td>0.0</td>\n",
       "      <td>0.0</td>\n",
       "      <td>0.0</td>\n",
       "      <td>0.0</td>\n",
       "      <td>0.0</td>\n",
       "    </tr>\n",
       "    <tr>\n",
       "      <th>2nd Chance</th>\n",
       "      <td>0.0</td>\n",
       "      <td>10.0</td>\n",
       "      <td>0.0</td>\n",
       "      <td>0.0</td>\n",
       "      <td>0.0</td>\n",
       "      <td>0.0</td>\n",
       "      <td>0.0</td>\n",
       "      <td>0.0</td>\n",
       "      <td>0.0</td>\n",
       "      <td>0.0</td>\n",
       "      <td>...</td>\n",
       "      <td>0.0</td>\n",
       "      <td>0.0</td>\n",
       "      <td>0.0</td>\n",
       "      <td>0.0</td>\n",
       "      <td>0.0</td>\n",
       "      <td>0.0</td>\n",
       "      <td>0.0</td>\n",
       "      <td>0.0</td>\n",
       "      <td>0.0</td>\n",
       "      <td>0.0</td>\n",
       "    </tr>\n",
       "    <tr>\n",
       "      <th>4 Blondes</th>\n",
       "      <td>0.0</td>\n",
       "      <td>0.0</td>\n",
       "      <td>0.0</td>\n",
       "      <td>0.0</td>\n",
       "      <td>0.0</td>\n",
       "      <td>0.0</td>\n",
       "      <td>0.0</td>\n",
       "      <td>0.0</td>\n",
       "      <td>0.0</td>\n",
       "      <td>0.0</td>\n",
       "      <td>...</td>\n",
       "      <td>0.0</td>\n",
       "      <td>0.0</td>\n",
       "      <td>0.0</td>\n",
       "      <td>0.0</td>\n",
       "      <td>0.0</td>\n",
       "      <td>0.0</td>\n",
       "      <td>0.0</td>\n",
       "      <td>0.0</td>\n",
       "      <td>0.0</td>\n",
       "      <td>0.0</td>\n",
       "    </tr>\n",
       "    <tr>\n",
       "      <th>A Bend in the Road</th>\n",
       "      <td>0.0</td>\n",
       "      <td>0.0</td>\n",
       "      <td>7.0</td>\n",
       "      <td>0.0</td>\n",
       "      <td>0.0</td>\n",
       "      <td>0.0</td>\n",
       "      <td>0.0</td>\n",
       "      <td>0.0</td>\n",
       "      <td>0.0</td>\n",
       "      <td>0.0</td>\n",
       "      <td>...</td>\n",
       "      <td>0.0</td>\n",
       "      <td>0.0</td>\n",
       "      <td>0.0</td>\n",
       "      <td>0.0</td>\n",
       "      <td>0.0</td>\n",
       "      <td>0.0</td>\n",
       "      <td>0.0</td>\n",
       "      <td>0.0</td>\n",
       "      <td>0.0</td>\n",
       "      <td>0.0</td>\n",
       "    </tr>\n",
       "  </tbody>\n",
       "</table>\n",
       "<p>5 rows × 810 columns</p>\n",
       "</div>"
      ],
      "text/plain": [
       "User-ID              254     2276    2766    2977    3363    4017    4385    \\\n",
       "Book-Title                                                                    \n",
       "1984                    9.0     0.0     0.0     0.0     0.0     0.0     0.0   \n",
       "1st to Die: A Novel     0.0     0.0     0.0     0.0     0.0     0.0     0.0   \n",
       "2nd Chance              0.0    10.0     0.0     0.0     0.0     0.0     0.0   \n",
       "4 Blondes               0.0     0.0     0.0     0.0     0.0     0.0     0.0   \n",
       "A Bend in the Road      0.0     0.0     7.0     0.0     0.0     0.0     0.0   \n",
       "\n",
       "User-ID              6251    6323    6543    ...  271705  273979  274004  \\\n",
       "Book-Title                                   ...                           \n",
       "1984                    0.0     0.0     0.0  ...    10.0     0.0     0.0   \n",
       "1st to Die: A Novel     0.0     0.0     9.0  ...     0.0     0.0     0.0   \n",
       "2nd Chance              0.0     0.0     0.0  ...     0.0     0.0     0.0   \n",
       "4 Blondes               0.0     0.0     0.0  ...     0.0     0.0     0.0   \n",
       "A Bend in the Road      0.0     0.0     0.0  ...     0.0     0.0     0.0   \n",
       "\n",
       "User-ID              274061  274301  274308  275970  277427  277639  278418  \n",
       "Book-Title                                                                   \n",
       "1984                    0.0     0.0     0.0     0.0     0.0     0.0     0.0  \n",
       "1st to Die: A Novel     0.0     0.0     0.0     0.0     0.0     0.0     0.0  \n",
       "2nd Chance              0.0     0.0     0.0     0.0     0.0     0.0     0.0  \n",
       "4 Blondes               0.0     0.0     0.0     0.0     0.0     0.0     0.0  \n",
       "A Bend in the Road      0.0     0.0     0.0     0.0     0.0     0.0     0.0  \n",
       "\n",
       "[5 rows x 810 columns]"
      ]
     },
     "execution_count": 66,
     "metadata": {},
     "output_type": "execute_result"
    }
   ],
   "source": [
    "pt.head()"
   ]
  },
  {
   "cell_type": "code",
   "execution_count": 67,
   "id": "c7c631be-6ef5-4d40-a49a-1bdab16aade2",
   "metadata": {},
   "outputs": [],
   "source": [
    "from sklearn.metrics.pairwise import cosine_similarity"
   ]
  },
  {
   "cell_type": "code",
   "execution_count": 68,
   "id": "1e99f612-07c6-4390-95bf-9521198d26ff",
   "metadata": {},
   "outputs": [],
   "source": [
    "similarity_scores=cosine_similarity(pt)"
   ]
  },
  {
   "cell_type": "code",
   "execution_count": 69,
   "id": "3d9410cb-f487-4108-af7d-7c0f532dd83c",
   "metadata": {},
   "outputs": [
    {
     "data": {
      "text/plain": [
       "array([[1.        , 0.10255025, 0.01220856, ..., 0.12110367, 0.07347567,\n",
       "        0.04316046],\n",
       "       [0.10255025, 1.        , 0.2364573 , ..., 0.07446129, 0.16773875,\n",
       "        0.14263397],\n",
       "       [0.01220856, 0.2364573 , 1.        , ..., 0.04558758, 0.04938579,\n",
       "        0.10796119],\n",
       "       ...,\n",
       "       [0.12110367, 0.07446129, 0.04558758, ..., 1.        , 0.07085128,\n",
       "        0.0196177 ],\n",
       "       [0.07347567, 0.16773875, 0.04938579, ..., 0.07085128, 1.        ,\n",
       "        0.10602962],\n",
       "       [0.04316046, 0.14263397, 0.10796119, ..., 0.0196177 , 0.10602962,\n",
       "        1.        ]])"
      ]
     },
     "execution_count": 69,
     "metadata": {},
     "output_type": "execute_result"
    }
   ],
   "source": [
    "similarity_scores"
   ]
  },
  {
   "cell_type": "code",
   "execution_count": 70,
   "id": "b53faac8-4ea8-4d2a-8e7d-964d8ca08570",
   "metadata": {},
   "outputs": [
    {
     "data": {
      "text/plain": [
       "array([1.        , 0.10255025, 0.01220856, 0.        , 0.05367224,\n",
       "       0.02774901, 0.08216491, 0.13732869, 0.03261686, 0.03667591,\n",
       "       0.02322418, 0.06766487, 0.02083978, 0.09673735, 0.13388865,\n",
       "       0.08303112, 0.11153543, 0.05100411, 0.02517784, 0.11706383,\n",
       "       0.        , 0.14333793, 0.07847534, 0.06150451, 0.08723968,\n",
       "       0.        , 0.07009814, 0.13658681, 0.07600328, 0.12167134,\n",
       "       0.00768046, 0.01473221, 0.        , 0.07965814, 0.04522617,\n",
       "       0.01556271, 0.09495938, 0.0182307 , 0.02610465, 0.07984012,\n",
       "       0.11679969, 0.0569124 , 0.08354155, 0.08471898, 0.08785938,\n",
       "       0.05491435, 0.0548505 , 0.27026514, 0.09779123, 0.06016046,\n",
       "       0.08958835, 0.06748675, 0.        , 0.04468098, 0.01920872,\n",
       "       0.        , 0.05629067, 0.00557964, 0.07877059, 0.05219479,\n",
       "       0.18908177, 0.        , 0.01240656, 0.02984572, 0.04279502,\n",
       "       0.12680125, 0.16566735, 0.        , 0.13357242, 0.06615478,\n",
       "       0.        , 0.        , 0.        , 0.10968075, 0.02806606,\n",
       "       0.04521795, 0.02613277, 0.06876131, 0.01331627, 0.10519138,\n",
       "       0.03349457, 0.01363458, 0.23669374, 0.        , 0.10397941,\n",
       "       0.06167753, 0.14176273, 0.11661083, 0.08331012, 0.00850895,\n",
       "       0.06715433, 0.        , 0.15850821, 0.0328052 , 0.01068915,\n",
       "       0.02579782, 0.02114859, 0.02687779, 0.02175821, 0.        ,\n",
       "       0.01601663, 0.12114266, 0.04768603, 0.05819184, 0.06510722,\n",
       "       0.        , 0.0476705 , 0.05273165, 0.0281001 , 0.06524573,\n",
       "       0.02116345, 0.02097868, 0.07422249, 0.01752778, 0.03734567,\n",
       "       0.        , 0.01579666, 0.11039448, 0.16527277, 0.15514319,\n",
       "       0.06237454, 0.08139489, 0.05655414, 0.07458203, 0.03771888,\n",
       "       0.0593633 , 0.02955369, 0.03355603, 0.04734093, 0.01006643,\n",
       "       0.01671982, 0.07258935, 0.        , 0.        , 0.        ,\n",
       "       0.02428501, 0.03067819, 0.0997498 , 0.        , 0.01690152,\n",
       "       0.02410862, 0.0281084 , 0.        , 0.        , 0.01812877,\n",
       "       0.02880827, 0.        , 0.05995157, 0.02127671, 0.1034119 ,\n",
       "       0.02766748, 0.10684795, 0.09898722, 0.14145186, 0.05007429,\n",
       "       0.09428289, 0.01411249, 0.        , 0.07835976, 0.00882242,\n",
       "       0.04515898, 0.        , 0.01281412, 0.04003334, 0.07477661,\n",
       "       0.01217906, 0.01887393, 0.02667484, 0.01432864, 0.14702847,\n",
       "       0.06087282, 0.02578321, 0.02741876, 0.        , 0.14909595,\n",
       "       0.05606788, 0.        , 0.03199916, 0.03643817, 0.        ,\n",
       "       0.01962921, 0.22222254, 0.01515845, 0.09673268, 0.02190023,\n",
       "       0.02013549, 0.05400331, 0.07262017, 0.01111637, 0.03649872,\n",
       "       0.05994664, 0.        , 0.14691167, 0.02086005, 0.10359635,\n",
       "       0.09794375, 0.06609997, 0.12871083, 0.08992739, 0.01147457,\n",
       "       0.02460165, 0.        , 0.18049207, 0.05141892, 0.0477174 ,\n",
       "       0.10849696, 0.13278139, 0.05915288, 0.05372984, 0.034785  ,\n",
       "       0.        , 0.09203039, 0.06388401, 0.04773328, 0.15570975,\n",
       "       0.08420691, 0.12338217, 0.0878469 , 0.08205945, 0.12177532,\n",
       "       0.02433703, 0.00272862, 0.        , 0.        , 0.03671505,\n",
       "       0.15280984, 0.0370943 , 0.07458136, 0.09746697, 0.05416091,\n",
       "       0.10266993, 0.07574414, 0.06426526, 0.0360174 , 0.01559752,\n",
       "       0.02033559, 0.02463593, 0.        , 0.03349154, 0.02135369,\n",
       "       0.0190337 , 0.06806265, 0.02032116, 0.11784706, 0.07839488,\n",
       "       0.08422558, 0.        , 0.02040796, 0.        , 0.04698246,\n",
       "       0.08294513, 0.13974514, 0.01234525, 0.13510608, 0.07423489,\n",
       "       0.11841889, 0.04930091, 0.01621668, 0.02633023, 0.04815972,\n",
       "       0.01959826, 0.10174253, 0.13257638, 0.        , 0.0551027 ,\n",
       "       0.0186115 , 0.        , 0.04504598, 0.03482459, 0.16503292,\n",
       "       0.08466191, 0.06795353, 0.02987653, 0.        , 0.        ,\n",
       "       0.08781993, 0.07885279, 0.04799058, 0.01467964, 0.02123837,\n",
       "       0.04549923, 0.08673969, 0.00885998, 0.02880637, 0.02022145,\n",
       "       0.02414122, 0.12548312, 0.        , 0.02482518, 0.06520606,\n",
       "       0.        , 0.0606983 , 0.01177824, 0.13974105, 0.01978844,\n",
       "       0.01260824, 0.08608601, 0.04433883, 0.02943085, 0.02242496,\n",
       "       0.06541868, 0.07866868, 0.14281399, 0.11979305, 0.01858409,\n",
       "       0.13445377, 0.04809338, 0.09790644, 0.        , 0.17415731,\n",
       "       0.07437756, 0.        , 0.12389065, 0.01042391, 0.02580849,\n",
       "       0.        , 0.0895139 , 0.04005551, 0.19182231, 0.02267512,\n",
       "       0.01730347, 0.03054044, 0.07008822, 0.10084626, 0.10467615,\n",
       "       0.01683462, 0.12468283, 0.10266459, 0.03549836, 0.02667484,\n",
       "       0.07652765, 0.08474056, 0.01831977, 0.02177482, 0.15293362,\n",
       "       0.        , 0.        , 0.01063251, 0.02153089, 0.02946443,\n",
       "       0.        , 0.02076783, 0.01194825, 0.00953675, 0.2067554 ,\n",
       "       0.01554292, 0.0390266 , 0.06681046, 0.09014973, 0.05914735,\n",
       "       0.06206857, 0.        , 0.02005959, 0.07843566, 0.16337845,\n",
       "       0.07161075, 0.        , 0.14595258, 0.07561631, 0.02939738,\n",
       "       0.04779629, 0.01807238, 0.11362722, 0.09791273, 0.07999693,\n",
       "       0.08912337, 0.10941777, 0.        , 0.02115842, 0.0600393 ,\n",
       "       0.01797154, 0.05755408, 0.02166863, 0.09754449, 0.13107652,\n",
       "       0.        , 0.06829904, 0.09132922, 0.        , 0.02781406,\n",
       "       0.01533368, 0.06113179, 0.01757286, 0.02471294, 0.0180158 ,\n",
       "       0.11789806, 0.06468143, 0.13904191, 0.        , 0.06671644,\n",
       "       0.        , 0.        , 0.05762086, 0.02266096, 0.00844876,\n",
       "       0.02297481, 0.07136276, 0.15305514, 0.06039874, 0.        ,\n",
       "       0.08996912, 0.01545947, 0.10135299, 0.        , 0.01676344,\n",
       "       0.        , 0.0502188 , 0.16041182, 0.        , 0.13439733,\n",
       "       0.12508514, 0.02329035, 0.0198727 , 0.01105674, 0.02548034,\n",
       "       0.00896044, 0.08246122, 0.01902896, 0.07025003, 0.0216367 ,\n",
       "       0.12822982, 0.09998772, 0.08642895, 0.06355197, 0.02883024,\n",
       "       0.04335826, 0.0470659 , 0.05223733, 0.        , 0.08982751,\n",
       "       0.00875634, 0.09923542, 0.10228551, 0.        , 0.12307492,\n",
       "       0.01758929, 0.02028125, 0.1033827 , 0.13028171, 0.08988894,\n",
       "       0.09005001, 0.05332049, 0.08033436, 0.04597795, 0.06139888,\n",
       "       0.02300709, 0.02304904, 0.06523041, 0.01915363, 0.        ,\n",
       "       0.04542766, 0.        , 0.        , 0.05261954, 0.01317088,\n",
       "       0.        , 0.        , 0.0485931 , 0.0734819 , 0.10354481,\n",
       "       0.01718807, 0.09919937, 0.08091989, 0.00358835, 0.04757132,\n",
       "       0.11122765, 0.05143481, 0.0566614 , 0.        , 0.06087719,\n",
       "       0.10800615, 0.        , 0.07554686, 0.        , 0.13644384,\n",
       "       0.04796763, 0.16104067, 0.        , 0.01759864, 0.05438295,\n",
       "       0.        , 0.08100801, 0.13090711, 0.00581844, 0.07150547,\n",
       "       0.05428487, 0.06143184, 0.05161653, 0.1951182 , 0.1149488 ,\n",
       "       0.06513047, 0.06401961, 0.        , 0.        , 0.10853662,\n",
       "       0.11400426, 0.0463925 , 0.01825277, 0.        , 0.01195201,\n",
       "       0.21057744, 0.05809707, 0.04349156, 0.02646256, 0.07276403,\n",
       "       0.05264857, 0.07242165, 0.06790898, 0.01626564, 0.02431809,\n",
       "       0.02093565, 0.13617057, 0.11784149, 0.08588206, 0.09284352,\n",
       "       0.11277297, 0.06868983, 0.08200947, 0.13369059, 0.        ,\n",
       "       0.19972625, 0.02286207, 0.0806288 , 0.        , 0.05756015,\n",
       "       0.06738056, 0.        , 0.19656288, 0.06306426, 0.03499381,\n",
       "       0.06123119, 0.09596456, 0.02180168, 0.02317515, 0.06476149,\n",
       "       0.07052241, 0.08280452, 0.1700872 , 0.07213921, 0.01172201,\n",
       "       0.08541218, 0.17990898, 0.08007284, 0.01739625, 0.16728777,\n",
       "       0.26396194, 0.1840891 , 0.05600273, 0.04133586, 0.06911015,\n",
       "       0.14456847, 0.22626397, 0.19208896, 0.0239334 , 0.20025064,\n",
       "       0.01507653, 0.05144282, 0.1233368 , 0.1420166 , 0.02472079,\n",
       "       0.08563805, 0.02363426, 0.12794024, 0.01083153, 0.07352436,\n",
       "       0.09532519, 0.03421895, 0.07194212, 0.02297079, 0.15344079,\n",
       "       0.08856302, 0.        , 0.        , 0.01878656, 0.09772942,\n",
       "       0.04404359, 0.15211972, 0.0152225 , 0.10307399, 0.05715789,\n",
       "       0.04600056, 0.06303899, 0.06572303, 0.14421331, 0.08272478,\n",
       "       0.        , 0.04203701, 0.02276077, 0.17381829, 0.01909967,\n",
       "       0.16000268, 0.14681486, 0.        , 0.05940546, 0.07725115,\n",
       "       0.07464763, 0.06546696, 0.07021577, 0.18921368, 0.02494136,\n",
       "       0.01705027, 0.05437622, 0.04932819, 0.        , 0.11445399,\n",
       "       0.08001595, 0.12858515, 0.02306658, 0.06129105, 0.02090769,\n",
       "       0.04550867, 0.1026659 , 0.10725982, 0.0260534 , 0.00173709,\n",
       "       0.0987294 , 0.08077482, 0.02159226, 0.01614275, 0.0208464 ,\n",
       "       0.09797466, 0.01906731, 0.18571699, 0.05344577, 0.18925314,\n",
       "       0.05894189, 0.01488161, 0.1202478 , 0.09840359, 0.01048126,\n",
       "       0.10596224, 0.07617195, 0.0805439 , 0.        , 0.23299389,\n",
       "       0.01073642, 0.13573542, 0.04578552, 0.14440017, 0.        ,\n",
       "       0.12522954, 0.0645501 , 0.02817522, 0.14445559, 0.01721045,\n",
       "       0.09508161, 0.0517902 , 0.18410818, 0.08704224, 0.10990764,\n",
       "       0.10850377, 0.03954865, 0.0383631 , 0.02463491, 0.07845405,\n",
       "       0.03455548, 0.03007681, 0.02484076, 0.04223674, 0.14444517,\n",
       "       0.12340234, 0.01510201, 0.0284437 , 0.02132016, 0.07391778,\n",
       "       0.08904276, 0.15893871, 0.06947574, 0.01060787, 0.        ,\n",
       "       0.09993169, 0.05711356, 0.09488374, 0.00948943, 0.13365876,\n",
       "       0.05794064, 0.        , 0.06721284, 0.02066998, 0.        ,\n",
       "       0.01839428, 0.        , 0.12655364, 0.08418288, 0.09095705,\n",
       "       0.00730589, 0.08143881, 0.        , 0.04218803, 0.08392849,\n",
       "       0.07785801, 0.        , 0.07151794, 0.02407593, 0.01635126,\n",
       "       0.03734567, 0.05237227, 0.01140169, 0.00968725, 0.12530648,\n",
       "       0.00909905, 0.05864096, 0.01769644, 0.12110367, 0.07347567,\n",
       "       0.04316046])"
      ]
     },
     "execution_count": 70,
     "metadata": {},
     "output_type": "execute_result"
    }
   ],
   "source": [
    "similarity_scores[0]"
   ]
  },
  {
   "cell_type": "code",
   "execution_count": 71,
   "id": "88477671-410f-4669-a321-0d205deb5822",
   "metadata": {},
   "outputs": [],
   "source": [
    "# def recommend(book_name):\n",
    "#     index=np.where(pt.index==book_name)[0][0]\n",
    "#     similer_items=sorted(list(enumerate(similarity_scores[index])),key=lambda x: x[1],reverse=True)[1:6]\n",
    "\n",
    "#     for i in similer_items:\n",
    "#         print(pt.index[i[0]])"
   ]
  },
  {
   "cell_type": "code",
   "execution_count": 72,
   "id": "cf994016-803d-4cc0-8564-f089f327e118",
   "metadata": {},
   "outputs": [],
   "source": [
    "def recommend(book_name):\n",
    "    index=np.where(pt.index==book_name)[0][0]\n",
    "    similer_items=sorted(list(enumerate(similarity_scores[index])),key=lambda x: x[1],reverse=True)[1:6]\n",
    "\n",
    "    data=[]\n",
    "    for i in similer_items:\n",
    "        item=[]\n",
    "        temp_df= books[books['Book-Title']==pt.index[i[0]]]\n",
    "        item.extend(list(temp_df.drop_duplicates('Book-Title')['Book-Title'].values))\n",
    "        item.extend(list(temp_df.drop_duplicates('Book-Title')['Book-Author'].values))\n",
    "        item.extend(list(temp_df.drop_duplicates('Book-Title')['Image-URL-M'].values))\n",
    "        data.append(item)\n",
    "    return data"
   ]
  },
  {
   "cell_type": "code",
   "execution_count": 73,
   "id": "d717ed39-293c-4168-a4be-1188e386435c",
   "metadata": {},
   "outputs": [
    {
     "data": {
      "text/plain": [
       "704"
      ]
     },
     "execution_count": 73,
     "metadata": {},
     "output_type": "execute_result"
    }
   ],
   "source": [
    "np.where(pt.index=='Zoya')[0][0]"
   ]
  },
  {
   "cell_type": "code",
   "execution_count": 74,
   "id": "bce1bd1c-cadc-45f3-8121-50670b8cb915",
   "metadata": {},
   "outputs": [
    {
     "data": {
      "text/plain": [
       "[(47, 0.2702651417103732),\n",
       " (545, 0.2639619371123497),\n",
       " (82, 0.2366937434740099),\n",
       " (634, 0.23299389358170394),\n",
       " (551, 0.2262639743141286)]"
      ]
     },
     "execution_count": 74,
     "metadata": {},
     "output_type": "execute_result"
    }
   ],
   "source": [
    "sorted(list(enumerate(similarity_scores[0])),key=lambda x: x[1],reverse=True)[1:6]"
   ]
  },
  {
   "cell_type": "code",
   "execution_count": 75,
   "id": "2dcaaa18-b6a1-40aa-a452-ceeb6594d5b9",
   "metadata": {},
   "outputs": [
    {
     "data": {
      "text/plain": [
       "'Cold Mountain : A Novel'"
      ]
     },
     "execution_count": 75,
     "metadata": {},
     "output_type": "execute_result"
    }
   ],
   "source": [
    "pt.index[112]"
   ]
  },
  {
   "cell_type": "code",
   "execution_count": 76,
   "id": "1abc7a52-4584-44f2-bf93-1695595524c1",
   "metadata": {},
   "outputs": [
    {
     "data": {
      "text/plain": [
       "[['Animal Farm',\n",
       "  'George Orwell',\n",
       "  'http://images.amazon.com/images/P/0451526341.01.MZZZZZZZ.jpg'],\n",
       " [\"The Handmaid's Tale\",\n",
       "  'Margaret Atwood',\n",
       "  'http://images.amazon.com/images/P/0449212602.01.MZZZZZZZ.jpg'],\n",
       " ['Brave New World',\n",
       "  'Aldous Huxley',\n",
       "  'http://images.amazon.com/images/P/0060809833.01.MZZZZZZZ.jpg'],\n",
       " ['The Vampire Lestat (Vampire Chronicles, Book II)',\n",
       "  'ANNE RICE',\n",
       "  'http://images.amazon.com/images/P/0345313860.01.MZZZZZZZ.jpg'],\n",
       " ['The Hours : A Novel',\n",
       "  'Michael Cunningham',\n",
       "  'http://images.amazon.com/images/P/0312243022.01.MZZZZZZZ.jpg']]"
      ]
     },
     "execution_count": 76,
     "metadata": {},
     "output_type": "execute_result"
    }
   ],
   "source": [
    "recommend('1984')"
   ]
  },
  {
   "cell_type": "code",
   "execution_count": 77,
   "id": "acc13bc1-9807-4f96-bac9-4a72cf045e30",
   "metadata": {},
   "outputs": [
    {
     "data": {
      "text/plain": [
       "[['A Walk to Remember',\n",
       "  'Nicholas Sparks',\n",
       "  'http://images.amazon.com/images/P/0446608955.01.MZZZZZZZ.jpg'],\n",
       " ['The Rescue',\n",
       "  'Nicholas Sparks',\n",
       "  'http://images.amazon.com/images/P/0446610399.01.MZZZZZZZ.jpg'],\n",
       " ['One Door Away from Heaven',\n",
       "  'Dean R. Koontz',\n",
       "  'http://images.amazon.com/images/P/0553582755.01.MZZZZZZZ.jpg'],\n",
       " ['Toxin',\n",
       "  'Robin Cook',\n",
       "  'http://images.amazon.com/images/P/0425166619.01.MZZZZZZZ.jpg'],\n",
       " ['The Five People You Meet in Heaven',\n",
       "  'Mitch Albom',\n",
       "  'http://images.amazon.com/images/P/0786868716.01.MZZZZZZZ.jpg']]"
      ]
     },
     "execution_count": 77,
     "metadata": {},
     "output_type": "execute_result"
    }
   ],
   "source": [
    "recommend('The Notebook')"
   ]
  },
  {
   "cell_type": "code",
   "execution_count": 78,
   "id": "286e8077-8f9e-45c1-92db-bab2899531aa",
   "metadata": {},
   "outputs": [
    {
     "data": {
      "text/plain": [
       "[['Angels &amp; Demons',\n",
       "  'Dan Brown',\n",
       "  'http://images.amazon.com/images/P/0671027360.01.MZZZZZZZ.jpg'],\n",
       " ['Touching Evil',\n",
       "  'Kay Hooper',\n",
       "  'http://images.amazon.com/images/P/0553583441.01.MZZZZZZZ.jpg'],\n",
       " ['Saving Faith',\n",
       "  'David Baldacci',\n",
       "  'http://images.amazon.com/images/P/0446608890.01.MZZZZZZZ.jpg'],\n",
       " [\"The Sweet Potato Queens' Book of Love\",\n",
       "  'JILL CONNER BROWNE',\n",
       "  'http://images.amazon.com/images/P/0609804138.01.MZZZZZZZ.jpg'],\n",
       " ['Middlesex: A Novel',\n",
       "  'Jeffrey Eugenides',\n",
       "  'http://images.amazon.com/images/P/0312422156.01.MZZZZZZZ.jpg']]"
      ]
     },
     "execution_count": 78,
     "metadata": {},
     "output_type": "execute_result"
    }
   ],
   "source": [
    "recommend('The Da Vinci Code')"
   ]
  },
  {
   "cell_type": "code",
   "execution_count": 79,
   "id": "1fb67dd8-6b2a-4725-8fb7-f41d0584bfa7",
   "metadata": {},
   "outputs": [],
   "source": [
    "import joblib"
   ]
  },
  {
   "cell_type": "code",
   "execution_count": 80,
   "id": "5acffb22-9796-455c-9905-941da49e5a83",
   "metadata": {},
   "outputs": [
    {
     "data": {
      "text/plain": [
       "['popular']"
      ]
     },
     "execution_count": 80,
     "metadata": {},
     "output_type": "execute_result"
    }
   ],
   "source": [
    "joblib.dump(popularity_df,'popular')"
   ]
  },
  {
   "cell_type": "code",
   "execution_count": 81,
   "id": "cfeecf58-90d7-494c-a3a4-10587ec7d08f",
   "metadata": {},
   "outputs": [
    {
     "data": {
      "text/plain": [
       "['pt']"
      ]
     },
     "execution_count": 81,
     "metadata": {},
     "output_type": "execute_result"
    }
   ],
   "source": [
    "joblib.dump(pt,'pt')"
   ]
  },
  {
   "cell_type": "code",
   "execution_count": 82,
   "id": "9bf616b1-7ed5-4979-bcd3-5ebff8ebc9ab",
   "metadata": {},
   "outputs": [
    {
     "data": {
      "text/plain": [
       "['books']"
      ]
     },
     "execution_count": 82,
     "metadata": {},
     "output_type": "execute_result"
    }
   ],
   "source": [
    "joblib.dump(books,'books')"
   ]
  },
  {
   "cell_type": "code",
   "execution_count": 83,
   "id": "4626d049-0bfd-4331-a43a-8e7f6fae5720",
   "metadata": {},
   "outputs": [
    {
     "data": {
      "text/plain": [
       "['similarity_scores']"
      ]
     },
     "execution_count": 83,
     "metadata": {},
     "output_type": "execute_result"
    }
   ],
   "source": [
    "joblib.dump(similarity_scores,'similarity_scores')"
   ]
  },
  {
   "cell_type": "code",
   "execution_count": 84,
   "id": "e540e976-0133-4c3c-8c25-c771038273e7",
   "metadata": {},
   "outputs": [],
   "source": [
    "model1=joblib.load('popular')"
   ]
  },
  {
   "cell_type": "code",
   "execution_count": 85,
   "id": "4f1fc9d6-2fce-4e69-aa02-634a2842747e",
   "metadata": {},
   "outputs": [
    {
     "data": {
      "text/html": [
       "<div>\n",
       "<style scoped>\n",
       "    .dataframe tbody tr th:only-of-type {\n",
       "        vertical-align: middle;\n",
       "    }\n",
       "\n",
       "    .dataframe tbody tr th {\n",
       "        vertical-align: top;\n",
       "    }\n",
       "\n",
       "    .dataframe thead th {\n",
       "        text-align: right;\n",
       "    }\n",
       "</style>\n",
       "<table border=\"1\" class=\"dataframe\">\n",
       "  <thead>\n",
       "    <tr style=\"text-align: right;\">\n",
       "      <th></th>\n",
       "      <th>Book-Title</th>\n",
       "      <th>Book-Author</th>\n",
       "      <th>Image-URL-M</th>\n",
       "      <th>Num-Rating</th>\n",
       "      <th>Avg-Rating</th>\n",
       "    </tr>\n",
       "  </thead>\n",
       "  <tbody>\n",
       "    <tr>\n",
       "      <th>0</th>\n",
       "      <td>Harry Potter and the Prisoner of Azkaban (Book 3)</td>\n",
       "      <td>J. K. Rowling</td>\n",
       "      <td>http://images.amazon.com/images/P/0439136350.0...</td>\n",
       "      <td>428</td>\n",
       "      <td>5.85</td>\n",
       "    </tr>\n",
       "  </tbody>\n",
       "</table>\n",
       "</div>"
      ],
      "text/plain": [
       "                                          Book-Title    Book-Author  \\\n",
       "0  Harry Potter and the Prisoner of Azkaban (Book 3)  J. K. Rowling   \n",
       "\n",
       "                                         Image-URL-M  Num-Rating  Avg-Rating  \n",
       "0  http://images.amazon.com/images/P/0439136350.0...         428        5.85  "
      ]
     },
     "execution_count": 85,
     "metadata": {},
     "output_type": "execute_result"
    }
   ],
   "source": [
    "model1.head(1)"
   ]
  },
  {
   "cell_type": "code",
   "execution_count": 86,
   "id": "82ef23f1-48a9-4eed-87b6-91975c43e2ab",
   "metadata": {},
   "outputs": [],
   "source": [
    "model2=joblib.load('pt')"
   ]
  },
  {
   "cell_type": "code",
   "execution_count": 87,
   "id": "7e88d632-cb32-4373-8f4c-3ac7566421d3",
   "metadata": {},
   "outputs": [
    {
     "data": {
      "text/html": [
       "<div>\n",
       "<style scoped>\n",
       "    .dataframe tbody tr th:only-of-type {\n",
       "        vertical-align: middle;\n",
       "    }\n",
       "\n",
       "    .dataframe tbody tr th {\n",
       "        vertical-align: top;\n",
       "    }\n",
       "\n",
       "    .dataframe thead th {\n",
       "        text-align: right;\n",
       "    }\n",
       "</style>\n",
       "<table border=\"1\" class=\"dataframe\">\n",
       "  <thead>\n",
       "    <tr style=\"text-align: right;\">\n",
       "      <th>User-ID</th>\n",
       "      <th>254</th>\n",
       "      <th>2276</th>\n",
       "      <th>2766</th>\n",
       "      <th>2977</th>\n",
       "      <th>3363</th>\n",
       "      <th>4017</th>\n",
       "      <th>4385</th>\n",
       "      <th>6251</th>\n",
       "      <th>6323</th>\n",
       "      <th>6543</th>\n",
       "      <th>...</th>\n",
       "      <th>271705</th>\n",
       "      <th>273979</th>\n",
       "      <th>274004</th>\n",
       "      <th>274061</th>\n",
       "      <th>274301</th>\n",
       "      <th>274308</th>\n",
       "      <th>275970</th>\n",
       "      <th>277427</th>\n",
       "      <th>277639</th>\n",
       "      <th>278418</th>\n",
       "    </tr>\n",
       "    <tr>\n",
       "      <th>Book-Title</th>\n",
       "      <th></th>\n",
       "      <th></th>\n",
       "      <th></th>\n",
       "      <th></th>\n",
       "      <th></th>\n",
       "      <th></th>\n",
       "      <th></th>\n",
       "      <th></th>\n",
       "      <th></th>\n",
       "      <th></th>\n",
       "      <th></th>\n",
       "      <th></th>\n",
       "      <th></th>\n",
       "      <th></th>\n",
       "      <th></th>\n",
       "      <th></th>\n",
       "      <th></th>\n",
       "      <th></th>\n",
       "      <th></th>\n",
       "      <th></th>\n",
       "      <th></th>\n",
       "    </tr>\n",
       "  </thead>\n",
       "  <tbody>\n",
       "    <tr>\n",
       "      <th>1984</th>\n",
       "      <td>9.0</td>\n",
       "      <td>0.0</td>\n",
       "      <td>0.0</td>\n",
       "      <td>0.0</td>\n",
       "      <td>0.0</td>\n",
       "      <td>0.0</td>\n",
       "      <td>0.0</td>\n",
       "      <td>0.0</td>\n",
       "      <td>0.0</td>\n",
       "      <td>0.0</td>\n",
       "      <td>...</td>\n",
       "      <td>10.0</td>\n",
       "      <td>0.0</td>\n",
       "      <td>0.0</td>\n",
       "      <td>0.0</td>\n",
       "      <td>0.0</td>\n",
       "      <td>0.0</td>\n",
       "      <td>0.0</td>\n",
       "      <td>0.0</td>\n",
       "      <td>0.0</td>\n",
       "      <td>0.0</td>\n",
       "    </tr>\n",
       "  </tbody>\n",
       "</table>\n",
       "<p>1 rows × 810 columns</p>\n",
       "</div>"
      ],
      "text/plain": [
       "User-ID     254     2276    2766    2977    3363    4017    4385    6251    \\\n",
       "Book-Title                                                                   \n",
       "1984           9.0     0.0     0.0     0.0     0.0     0.0     0.0     0.0   \n",
       "\n",
       "User-ID     6323    6543    ...  271705  273979  274004  274061  274301  \\\n",
       "Book-Title                  ...                                           \n",
       "1984           0.0     0.0  ...    10.0     0.0     0.0     0.0     0.0   \n",
       "\n",
       "User-ID     274308  275970  277427  277639  278418  \n",
       "Book-Title                                          \n",
       "1984           0.0     0.0     0.0     0.0     0.0  \n",
       "\n",
       "[1 rows x 810 columns]"
      ]
     },
     "execution_count": 87,
     "metadata": {},
     "output_type": "execute_result"
    }
   ],
   "source": [
    "model2.head(1)"
   ]
  },
  {
   "cell_type": "code",
   "execution_count": 88,
   "id": "73198849-7212-44ed-a286-6668e66b06c1",
   "metadata": {},
   "outputs": [],
   "source": [
    "model3=joblib.load('books')"
   ]
  },
  {
   "cell_type": "code",
   "execution_count": 89,
   "id": "bc29cdfa-ed10-40b4-955e-2392a9eb2a67",
   "metadata": {},
   "outputs": [
    {
     "data": {
      "text/html": [
       "<div>\n",
       "<style scoped>\n",
       "    .dataframe tbody tr th:only-of-type {\n",
       "        vertical-align: middle;\n",
       "    }\n",
       "\n",
       "    .dataframe tbody tr th {\n",
       "        vertical-align: top;\n",
       "    }\n",
       "\n",
       "    .dataframe thead th {\n",
       "        text-align: right;\n",
       "    }\n",
       "</style>\n",
       "<table border=\"1\" class=\"dataframe\">\n",
       "  <thead>\n",
       "    <tr style=\"text-align: right;\">\n",
       "      <th></th>\n",
       "      <th>ISBN</th>\n",
       "      <th>Book-Title</th>\n",
       "      <th>Book-Author</th>\n",
       "      <th>Year-Of-Publication</th>\n",
       "      <th>Publisher</th>\n",
       "      <th>Image-URL-S</th>\n",
       "      <th>Image-URL-M</th>\n",
       "      <th>Image-URL-L</th>\n",
       "    </tr>\n",
       "  </thead>\n",
       "  <tbody>\n",
       "    <tr>\n",
       "      <th>0</th>\n",
       "      <td>0195153448</td>\n",
       "      <td>Classical Mythology</td>\n",
       "      <td>Mark P. O. Morford</td>\n",
       "      <td>2002</td>\n",
       "      <td>Oxford University Press</td>\n",
       "      <td>http://images.amazon.com/images/P/0195153448.0...</td>\n",
       "      <td>http://images.amazon.com/images/P/0195153448.0...</td>\n",
       "      <td>http://images.amazon.com/images/P/0195153448.0...</td>\n",
       "    </tr>\n",
       "  </tbody>\n",
       "</table>\n",
       "</div>"
      ],
      "text/plain": [
       "         ISBN           Book-Title         Book-Author Year-Of-Publication  \\\n",
       "0  0195153448  Classical Mythology  Mark P. O. Morford                2002   \n",
       "\n",
       "                 Publisher                                        Image-URL-S  \\\n",
       "0  Oxford University Press  http://images.amazon.com/images/P/0195153448.0...   \n",
       "\n",
       "                                         Image-URL-M  \\\n",
       "0  http://images.amazon.com/images/P/0195153448.0...   \n",
       "\n",
       "                                         Image-URL-L  \n",
       "0  http://images.amazon.com/images/P/0195153448.0...  "
      ]
     },
     "execution_count": 89,
     "metadata": {},
     "output_type": "execute_result"
    }
   ],
   "source": [
    "model3.head(1)"
   ]
  },
  {
   "cell_type": "code",
   "execution_count": 90,
   "id": "f2d4e638-0d30-47e0-b4b6-4f51e371ea68",
   "metadata": {},
   "outputs": [],
   "source": [
    "model4=joblib.load('similarity_scores')"
   ]
  },
  {
   "cell_type": "code",
   "execution_count": 91,
   "id": "3666165f-4ae3-4bcc-aed1-57f5e760609e",
   "metadata": {},
   "outputs": [
    {
     "data": {
      "text/plain": [
       "array([[0.01220856, 0.2364573 , 1.        , ..., 0.04558758, 0.04938579,\n",
       "        0.10796119],\n",
       "       [0.        , 0.        , 0.        , ..., 0.        , 0.        ,\n",
       "        0.        ],\n",
       "       [0.05367224, 0.1095379 , 0.06909024, ..., 0.04001749, 0.11284126,\n",
       "        0.01520436],\n",
       "       ...,\n",
       "       [0.12110367, 0.07446129, 0.04558758, ..., 1.        , 0.07085128,\n",
       "        0.0196177 ],\n",
       "       [0.07347567, 0.16773875, 0.04938579, ..., 0.07085128, 1.        ,\n",
       "        0.10602962],\n",
       "       [0.04316046, 0.14263397, 0.10796119, ..., 0.0196177 , 0.10602962,\n",
       "        1.        ]])"
      ]
     },
     "execution_count": 91,
     "metadata": {},
     "output_type": "execute_result"
    }
   ],
   "source": [
    "model4[2:]"
   ]
  },
  {
   "cell_type": "code",
   "execution_count": null,
   "id": "70768a8c-67a4-4d46-a8c2-e555fded5df5",
   "metadata": {},
   "outputs": [],
   "source": []
  }
 ],
 "metadata": {
  "kernelspec": {
   "display_name": "Python 3 (ipykernel)",
   "language": "python",
   "name": "python3"
  },
  "language_info": {
   "codemirror_mode": {
    "name": "ipython",
    "version": 3
   },
   "file_extension": ".py",
   "mimetype": "text/x-python",
   "name": "python",
   "nbconvert_exporter": "python",
   "pygments_lexer": "ipython3",
   "version": "3.12.4"
  }
 },
 "nbformat": 4,
 "nbformat_minor": 5
}
